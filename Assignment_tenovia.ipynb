{
  "nbformat": 4,
  "nbformat_minor": 0,
  "metadata": {
    "colab": {
      "provenance": []
    },
    "kernelspec": {
      "name": "python3",
      "display_name": "Python 3"
    },
    "language_info": {
      "name": "python"
    }
  },
  "cells": [
    {
      "cell_type": "markdown",
      "source": [
        "# **Tenovia Data Analytics Assignment**                                       (Raasi P -  2039415)\n",
        "\n",
        "Attached in the excel sheet is a sample product revenue/views related data and the data definition for all columns. Your task for this assignment is to explore this data as much as you can and come up with insights that would help the business make better decisions about their top selling products"
      ],
      "metadata": {
        "id": "h00dkKk-_F8d"
      }
    },
    {
      "cell_type": "markdown",
      "source": [
        "![download.jpg](data:image/jpeg;base64,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)\n",
        "\n",
        "Tenovia is a Bangalore-based E-commerce consulting firm that’s accelerating the growth of digital revenues for brands. They are an end-to- end, 360 degrees E-commerce and Digital Partner guiding and working with our clients to achieve their full potential in an increasingly digital driven world.\n",
        "\n",
        "They help strategize with their clients and set the digital roadmap for them and then help them execute it. Their ability to think at 35,000 feet and execute at the trenches is what they consider their USP. Some of their clients include Paragon footwear, Soch, The BodyShop, Luxor, MTR and many more across diverse industries.\n",
        "\n",
        "Theye work with multiple eCommerce channels by identifying new product lines that take advantage of the e-Commerce channel economics. Their tried and tested methods have given us concrete results - a proven track record of making significant revenues for their customers."
      ],
      "metadata": {
        "id": "H5yyzIt-_GKI"
      }
    },
    {
      "cell_type": "markdown",
      "metadata": {
        "id": "gOVodpxfy2Id"
      },
      "source": [
        "### ***Table of Contents***\n",
        "\n",
        "1. Data Cleaning\n",
        "2. Exploratory Data Analysis (EDA)\n",
        "3. Feature Engineering\n",
        "4. Visual EDA\n",
        "5. Detecting outliers\n",
        "6. Spliting the Dataset\n",
        "7. Logistic Regression\n",
        "\n",
        "Conclusion"
      ]
    },
    {
      "cell_type": "markdown",
      "metadata": {
        "id": "pU2xp11ey2MH"
      },
      "source": [
        "# **Analysing E Commerce Dataset**"
      ]
    },
    {
      "cell_type": "markdown",
      "metadata": {
        "id": "BKqMN4gpy2Pj"
      },
      "source": [
        "There are multiple datasets consisting of customer transaction details . The dataset provides a great opportunity to let us explore in different angles"
      ]
    },
    {
      "cell_type": "markdown",
      "metadata": {
        "id": "gU2AQkrK0boF"
      },
      "source": [
        " **Importing the required Packages**"
      ]
    },
    {
      "cell_type": "code",
      "metadata": {
        "id": "vbdIxdX6zh8f"
      },
      "source": [
        "## Loading the required libraries:\n",
        "import numpy as np\n",
        "import pandas as pd\n",
        "import matplotlib.pyplot as plt\n",
        "%matplotlib inline\n",
        "import seaborn as sns\n",
        "import datetime as dt\n",
        "import calendar\n",
        "from scipy.stats import skew,kurtosis\n",
        "import warnings\n",
        "warnings.filterwarnings('ignore')\n",
        "plt.style.use('fivethirtyeight')\n",
        "%matplotlib inline"
      ],
      "execution_count": null,
      "outputs": []
    },
    {
      "cell_type": "markdown",
      "metadata": {
        "id": "bzUFEvRj0nvY"
      },
      "source": [
        "**Importing the Dataset**"
      ]
    },
    {
      "cell_type": "code",
      "metadata": {
        "colab": {
          "base_uri": "https://localhost:8080/",
          "height": 330
        },
        "id": "IJR67oLyy__P",
        "outputId": "4876f85e-2cfa-48cc-adfb-6a41b2c46f20"
      },
      "source": [
        "df = pd.read_csv(\"Sample Product Data.csv\")\n",
        "df.head(5)"
      ],
      "execution_count": null,
      "outputs": [
        {
          "output_type": "execute_result",
          "data": {
            "text/html": [
              "<div>\n",
              "<style scoped>\n",
              "    .dataframe tbody tr th:only-of-type {\n",
              "        vertical-align: middle;\n",
              "    }\n",
              "\n",
              "    .dataframe tbody tr th {\n",
              "        vertical-align: top;\n",
              "    }\n",
              "\n",
              "    .dataframe thead th {\n",
              "        text-align: right;\n",
              "    }\n",
              "</style>\n",
              "<table border=\"1\" class=\"dataframe\">\n",
              "  <thead>\n",
              "    <tr style=\"text-align: right;\">\n",
              "      <th></th>\n",
              "      <th>SKU</th>\n",
              "      <th>Product_Name</th>\n",
              "      <th>Date</th>\n",
              "      <th>itemRevenue</th>\n",
              "      <th>itemQuantity</th>\n",
              "      <th>buyToDetailRate</th>\n",
              "      <th>productAddsToCart</th>\n",
              "      <th>cartToDetailRate</th>\n",
              "      <th>uniquePurchases</th>\n",
              "      <th>quantityAddedToCart</th>\n",
              "      <th>revenuePerItem</th>\n",
              "      <th>productRevenuePerPurchase</th>\n",
              "      <th>itemsPerPurchase</th>\n",
              "      <th>productDetailViews</th>\n",
              "      <th>sessions</th>\n",
              "      <th>bounceRate</th>\n",
              "      <th>pageViews</th>\n",
              "      <th>pageviewsPerSession</th>\n",
              "      <th>sessionDuration</th>\n",
              "      <th>users</th>\n",
              "      <th>newUsers</th>\n",
              "    </tr>\n",
              "  </thead>\n",
              "  <tbody>\n",
              "    <tr>\n",
              "      <th>0</th>\n",
              "      <td>A1R11603GBLK00011G749</td>\n",
              "      <td>Men's  Plus Black Sandal</td>\n",
              "      <td>2021-06-07</td>\n",
              "      <td>749.0</td>\n",
              "      <td>1</td>\n",
              "      <td>0.584771</td>\n",
              "      <td>0</td>\n",
              "      <td>0.550132</td>\n",
              "      <td>1</td>\n",
              "      <td>0</td>\n",
              "      <td>749.0</td>\n",
              "      <td>749.0</td>\n",
              "      <td>1</td>\n",
              "      <td>0</td>\n",
              "      <td>10</td>\n",
              "      <td>0.532958</td>\n",
              "      <td>100</td>\n",
              "      <td>0</td>\n",
              "      <td>120</td>\n",
              "      <td>1</td>\n",
              "      <td>0</td>\n",
              "    </tr>\n",
              "    <tr>\n",
              "      <th>1</th>\n",
              "      <td>A1PU9601GTAN00008G539</td>\n",
              "      <td>Men's Brown  Sandals</td>\n",
              "      <td>2021-06-07</td>\n",
              "      <td>539.0</td>\n",
              "      <td>1</td>\n",
              "      <td>0.102999</td>\n",
              "      <td>1</td>\n",
              "      <td>0.411237</td>\n",
              "      <td>1</td>\n",
              "      <td>1</td>\n",
              "      <td>539.0</td>\n",
              "      <td>539.0</td>\n",
              "      <td>1</td>\n",
              "      <td>0</td>\n",
              "      <td>10</td>\n",
              "      <td>0.707097</td>\n",
              "      <td>100</td>\n",
              "      <td>0</td>\n",
              "      <td>227</td>\n",
              "      <td>1</td>\n",
              "      <td>0</td>\n",
              "    </tr>\n",
              "    <tr>\n",
              "      <th>2</th>\n",
              "      <td>A1FB9102GPBYL00007G499</td>\n",
              "      <td>Men's Blue  Sandals</td>\n",
              "      <td>2021-06-07</td>\n",
              "      <td>499.0</td>\n",
              "      <td>1</td>\n",
              "      <td>0.384049</td>\n",
              "      <td>2</td>\n",
              "      <td>0.851673</td>\n",
              "      <td>1</td>\n",
              "      <td>2</td>\n",
              "      <td>499.0</td>\n",
              "      <td>499.0</td>\n",
              "      <td>1</td>\n",
              "      <td>0</td>\n",
              "      <td>10</td>\n",
              "      <td>0.879106</td>\n",
              "      <td>100</td>\n",
              "      <td>0</td>\n",
              "      <td>972</td>\n",
              "      <td>1</td>\n",
              "      <td>0</td>\n",
              "    </tr>\n",
              "    <tr>\n",
              "      <th>3</th>\n",
              "      <td>A1FB9572GPTAN00006G499</td>\n",
              "      <td>Men's   Tan Formal Shoes</td>\n",
              "      <td>2021-06-07</td>\n",
              "      <td>499.0</td>\n",
              "      <td>1</td>\n",
              "      <td>0.663615</td>\n",
              "      <td>3</td>\n",
              "      <td>0.252067</td>\n",
              "      <td>1</td>\n",
              "      <td>3</td>\n",
              "      <td>499.0</td>\n",
              "      <td>499.0</td>\n",
              "      <td>1</td>\n",
              "      <td>0</td>\n",
              "      <td>10</td>\n",
              "      <td>0.879087</td>\n",
              "      <td>100</td>\n",
              "      <td>0</td>\n",
              "      <td>470</td>\n",
              "      <td>1</td>\n",
              "      <td>0</td>\n",
              "    </tr>\n",
              "    <tr>\n",
              "      <th>4</th>\n",
              "      <td>A1EV1420LBLK00007G110</td>\n",
              "      <td>Women's  Black Flip-Flops</td>\n",
              "      <td>2021-06-07</td>\n",
              "      <td>658.0</td>\n",
              "      <td>2</td>\n",
              "      <td>0.659111</td>\n",
              "      <td>1</td>\n",
              "      <td>0.924743</td>\n",
              "      <td>2</td>\n",
              "      <td>1</td>\n",
              "      <td>329.0</td>\n",
              "      <td>329.0</td>\n",
              "      <td>1</td>\n",
              "      <td>0</td>\n",
              "      <td>10</td>\n",
              "      <td>0.368253</td>\n",
              "      <td>100</td>\n",
              "      <td>0</td>\n",
              "      <td>376</td>\n",
              "      <td>1</td>\n",
              "      <td>1</td>\n",
              "    </tr>\n",
              "  </tbody>\n",
              "</table>\n",
              "</div>"
            ],
            "text/plain": [
              "                      SKU               Product_Name  ... users  newUsers\n",
              "0   A1R11603GBLK00011G749   Men's  Plus Black Sandal  ...     1         0\n",
              "1   A1PU9601GTAN00008G539       Men's Brown  Sandals  ...     1         0\n",
              "2  A1FB9102GPBYL00007G499        Men's Blue  Sandals  ...     1         0\n",
              "3  A1FB9572GPTAN00006G499   Men's   Tan Formal Shoes  ...     1         0\n",
              "4   A1EV1420LBLK00007G110  Women's  Black Flip-Flops  ...     1         1\n",
              "\n",
              "[5 rows x 21 columns]"
            ]
          },
          "metadata": {},
          "execution_count": 83
        }
      ]
    },
    {
      "cell_type": "markdown",
      "metadata": {
        "id": "AuoqYzby0uvf"
      },
      "source": [
        "**Shape of the Dataset**"
      ]
    },
    {
      "cell_type": "code",
      "metadata": {
        "colab": {
          "base_uri": "https://localhost:8080/"
        },
        "id": "_Ftln7n6zLGo",
        "outputId": "2b1f1a88-ab04-4b8b-e542-08ff94ba26b1"
      },
      "source": [
        "df.shape"
      ],
      "execution_count": null,
      "outputs": [
        {
          "output_type": "execute_result",
          "data": {
            "text/plain": [
              "(2170, 21)"
            ]
          },
          "metadata": {},
          "execution_count": 84
        }
      ]
    },
    {
      "cell_type": "code",
      "metadata": {
        "colab": {
          "base_uri": "https://localhost:8080/",
          "height": 320
        },
        "id": "9NmSQUzD1Yit",
        "outputId": "104f55a5-4ad4-4211-d781-75136ca7c0fb"
      },
      "source": [
        "df.describe()"
      ],
      "execution_count": null,
      "outputs": [
        {
          "output_type": "execute_result",
          "data": {
            "text/html": [
              "<div>\n",
              "<style scoped>\n",
              "    .dataframe tbody tr th:only-of-type {\n",
              "        vertical-align: middle;\n",
              "    }\n",
              "\n",
              "    .dataframe tbody tr th {\n",
              "        vertical-align: top;\n",
              "    }\n",
              "\n",
              "    .dataframe thead th {\n",
              "        text-align: right;\n",
              "    }\n",
              "</style>\n",
              "<table border=\"1\" class=\"dataframe\">\n",
              "  <thead>\n",
              "    <tr style=\"text-align: right;\">\n",
              "      <th></th>\n",
              "      <th>itemRevenue</th>\n",
              "      <th>itemQuantity</th>\n",
              "      <th>buyToDetailRate</th>\n",
              "      <th>productAddsToCart</th>\n",
              "      <th>cartToDetailRate</th>\n",
              "      <th>uniquePurchases</th>\n",
              "      <th>quantityAddedToCart</th>\n",
              "      <th>revenuePerItem</th>\n",
              "      <th>productRevenuePerPurchase</th>\n",
              "      <th>itemsPerPurchase</th>\n",
              "      <th>productDetailViews</th>\n",
              "      <th>sessions</th>\n",
              "      <th>bounceRate</th>\n",
              "      <th>pageViews</th>\n",
              "      <th>pageviewsPerSession</th>\n",
              "      <th>sessionDuration</th>\n",
              "      <th>users</th>\n",
              "      <th>newUsers</th>\n",
              "    </tr>\n",
              "  </thead>\n",
              "  <tbody>\n",
              "    <tr>\n",
              "      <th>count</th>\n",
              "      <td>126.000000</td>\n",
              "      <td>2170.000000</td>\n",
              "      <td>2170.000000</td>\n",
              "      <td>2170.000000</td>\n",
              "      <td>2170.000000</td>\n",
              "      <td>2170.000000</td>\n",
              "      <td>2170.000000</td>\n",
              "      <td>2170.000000</td>\n",
              "      <td>2170.000000</td>\n",
              "      <td>2170.000000</td>\n",
              "      <td>2170.000000</td>\n",
              "      <td>2170.000000</td>\n",
              "      <td>2170.000000</td>\n",
              "      <td>2170.000000</td>\n",
              "      <td>2170.0</td>\n",
              "      <td>2170.000000</td>\n",
              "      <td>2170.000000</td>\n",
              "      <td>2170.000000</td>\n",
              "    </tr>\n",
              "    <tr>\n",
              "      <th>mean</th>\n",
              "      <td>361.769841</td>\n",
              "      <td>0.081106</td>\n",
              "      <td>0.500330</td>\n",
              "      <td>0.348848</td>\n",
              "      <td>0.498002</td>\n",
              "      <td>0.079263</td>\n",
              "      <td>0.352995</td>\n",
              "      <td>13.988172</td>\n",
              "      <td>14.228725</td>\n",
              "      <td>0.059908</td>\n",
              "      <td>4.091244</td>\n",
              "      <td>32.769585</td>\n",
              "      <td>0.504506</td>\n",
              "      <td>327.695853</td>\n",
              "      <td>0.0</td>\n",
              "      <td>501.467742</td>\n",
              "      <td>3.276959</td>\n",
              "      <td>1.597696</td>\n",
              "    </tr>\n",
              "    <tr>\n",
              "      <th>std</th>\n",
              "      <td>320.845032</td>\n",
              "      <td>0.371734</td>\n",
              "      <td>0.286000</td>\n",
              "      <td>0.709197</td>\n",
              "      <td>0.288224</td>\n",
              "      <td>0.364622</td>\n",
              "      <td>0.721023</td>\n",
              "      <td>65.979799</td>\n",
              "      <td>66.639082</td>\n",
              "      <td>0.245017</td>\n",
              "      <td>6.580352</td>\n",
              "      <td>46.055346</td>\n",
              "      <td>0.291945</td>\n",
              "      <td>460.553458</td>\n",
              "      <td>0.0</td>\n",
              "      <td>290.877658</td>\n",
              "      <td>4.605535</td>\n",
              "      <td>3.013554</td>\n",
              "    </tr>\n",
              "    <tr>\n",
              "      <th>min</th>\n",
              "      <td>77.000000</td>\n",
              "      <td>0.000000</td>\n",
              "      <td>0.001207</td>\n",
              "      <td>0.000000</td>\n",
              "      <td>0.000711</td>\n",
              "      <td>0.000000</td>\n",
              "      <td>0.000000</td>\n",
              "      <td>0.000000</td>\n",
              "      <td>0.000000</td>\n",
              "      <td>0.000000</td>\n",
              "      <td>0.000000</td>\n",
              "      <td>10.000000</td>\n",
              "      <td>0.000690</td>\n",
              "      <td>100.000000</td>\n",
              "      <td>0.0</td>\n",
              "      <td>1.000000</td>\n",
              "      <td>1.000000</td>\n",
              "      <td>0.000000</td>\n",
              "    </tr>\n",
              "    <tr>\n",
              "      <th>25%</th>\n",
              "      <td>129.250000</td>\n",
              "      <td>0.000000</td>\n",
              "      <td>0.253793</td>\n",
              "      <td>0.000000</td>\n",
              "      <td>0.247815</td>\n",
              "      <td>0.000000</td>\n",
              "      <td>0.000000</td>\n",
              "      <td>0.000000</td>\n",
              "      <td>0.000000</td>\n",
              "      <td>0.000000</td>\n",
              "      <td>0.000000</td>\n",
              "      <td>10.000000</td>\n",
              "      <td>0.252573</td>\n",
              "      <td>100.000000</td>\n",
              "      <td>0.0</td>\n",
              "      <td>250.250000</td>\n",
              "      <td>1.000000</td>\n",
              "      <td>0.000000</td>\n",
              "    </tr>\n",
              "    <tr>\n",
              "      <th>50%</th>\n",
              "      <td>224.500000</td>\n",
              "      <td>0.000000</td>\n",
              "      <td>0.504801</td>\n",
              "      <td>0.000000</td>\n",
              "      <td>0.496590</td>\n",
              "      <td>0.000000</td>\n",
              "      <td>0.000000</td>\n",
              "      <td>0.000000</td>\n",
              "      <td>0.000000</td>\n",
              "      <td>0.000000</td>\n",
              "      <td>2.000000</td>\n",
              "      <td>20.000000</td>\n",
              "      <td>0.513127</td>\n",
              "      <td>200.000000</td>\n",
              "      <td>0.0</td>\n",
              "      <td>501.000000</td>\n",
              "      <td>2.000000</td>\n",
              "      <td>1.000000</td>\n",
              "    </tr>\n",
              "    <tr>\n",
              "      <th>75%</th>\n",
              "      <td>539.000000</td>\n",
              "      <td>0.000000</td>\n",
              "      <td>0.741561</td>\n",
              "      <td>1.000000</td>\n",
              "      <td>0.752451</td>\n",
              "      <td>0.000000</td>\n",
              "      <td>1.000000</td>\n",
              "      <td>0.000000</td>\n",
              "      <td>0.000000</td>\n",
              "      <td>0.000000</td>\n",
              "      <td>5.000000</td>\n",
              "      <td>40.000000</td>\n",
              "      <td>0.755743</td>\n",
              "      <td>400.000000</td>\n",
              "      <td>0.0</td>\n",
              "      <td>755.000000</td>\n",
              "      <td>4.000000</td>\n",
              "      <td>2.000000</td>\n",
              "    </tr>\n",
              "    <tr>\n",
              "      <th>max</th>\n",
              "      <td>1518.000000</td>\n",
              "      <td>4.000000</td>\n",
              "      <td>0.999941</td>\n",
              "      <td>5.000000</td>\n",
              "      <td>0.999885</td>\n",
              "      <td>4.000000</td>\n",
              "      <td>5.000000</td>\n",
              "      <td>759.000000</td>\n",
              "      <td>759.000000</td>\n",
              "      <td>2.000000</td>\n",
              "      <td>115.000000</td>\n",
              "      <td>1010.000000</td>\n",
              "      <td>0.999592</td>\n",
              "      <td>10100.000000</td>\n",
              "      <td>0.0</td>\n",
              "      <td>1000.000000</td>\n",
              "      <td>101.000000</td>\n",
              "      <td>66.000000</td>\n",
              "    </tr>\n",
              "  </tbody>\n",
              "</table>\n",
              "</div>"
            ],
            "text/plain": [
              "       itemRevenue  itemQuantity  ...        users     newUsers\n",
              "count   126.000000   2170.000000  ...  2170.000000  2170.000000\n",
              "mean    361.769841      0.081106  ...     3.276959     1.597696\n",
              "std     320.845032      0.371734  ...     4.605535     3.013554\n",
              "min      77.000000      0.000000  ...     1.000000     0.000000\n",
              "25%     129.250000      0.000000  ...     1.000000     0.000000\n",
              "50%     224.500000      0.000000  ...     2.000000     1.000000\n",
              "75%     539.000000      0.000000  ...     4.000000     2.000000\n",
              "max    1518.000000      4.000000  ...   101.000000    66.000000\n",
              "\n",
              "[8 rows x 18 columns]"
            ]
          },
          "metadata": {},
          "execution_count": 85
        }
      ]
    },
    {
      "cell_type": "markdown",
      "metadata": {
        "id": "z38-ItCk-ern"
      },
      "source": [
        "## **1. Data Cleaning**"
      ]
    },
    {
      "cell_type": "code",
      "metadata": {
        "colab": {
          "base_uri": "https://localhost:8080/"
        },
        "id": "HVLXkaDy1aHa",
        "outputId": "bd0de18e-bb2e-447a-ccda-8cdd5aa1ab0e"
      },
      "source": [
        "df.info()"
      ],
      "execution_count": null,
      "outputs": [
        {
          "output_type": "stream",
          "name": "stdout",
          "text": [
            "<class 'pandas.core.frame.DataFrame'>\n",
            "RangeIndex: 2170 entries, 0 to 2169\n",
            "Data columns (total 21 columns):\n",
            " #   Column                     Non-Null Count  Dtype  \n",
            "---  ------                     --------------  -----  \n",
            " 0   SKU                        2170 non-null   object \n",
            " 1   Product_Name               2170 non-null   object \n",
            " 2   Date                       2170 non-null   object \n",
            " 3   itemRevenue                126 non-null    float64\n",
            " 4   itemQuantity               2170 non-null   int64  \n",
            " 5   buyToDetailRate            2170 non-null   float64\n",
            " 6   productAddsToCart          2170 non-null   int64  \n",
            " 7   cartToDetailRate           2170 non-null   float64\n",
            " 8   uniquePurchases            2170 non-null   int64  \n",
            " 9   quantityAddedToCart        2170 non-null   int64  \n",
            " 10  revenuePerItem             2170 non-null   float64\n",
            " 11  productRevenuePerPurchase  2170 non-null   float64\n",
            " 12  itemsPerPurchase           2170 non-null   int64  \n",
            " 13  productDetailViews         2170 non-null   int64  \n",
            " 14  sessions                   2170 non-null   int64  \n",
            " 15  bounceRate                 2170 non-null   float64\n",
            " 16  pageViews                  2170 non-null   int64  \n",
            " 17  pageviewsPerSession        2170 non-null   int64  \n",
            " 18  sessionDuration            2170 non-null   int64  \n",
            " 19  users                      2170 non-null   int64  \n",
            " 20  newUsers                   2170 non-null   int64  \n",
            "dtypes: float64(6), int64(12), object(3)\n",
            "memory usage: 356.1+ KB\n"
          ]
        }
      ]
    },
    {
      "cell_type": "markdown",
      "metadata": {
        "id": "tyEaXBlTBwzp"
      },
      "source": [
        "*The column related to the transaction date will be converted from 'object' (a simple string basically) to the very convenient date format \"date-time\" in pandas*"
      ]
    },
    {
      "cell_type": "code",
      "metadata": {
        "id": "lreJq9t-Bodo"
      },
      "source": [
        "df['Date']=pd.to_datetime(df.Date, format='%Y/%m/%d %H:%M')"
      ],
      "execution_count": null,
      "outputs": []
    },
    {
      "cell_type": "markdown",
      "metadata": {
        "id": "pHnr-B4wAUlc"
      },
      "source": [
        "*The exact number of missing values in each column is:*"
      ]
    },
    {
      "cell_type": "code",
      "metadata": {
        "colab": {
          "base_uri": "https://localhost:8080/"
        },
        "id": "h4hREMgg_PSU",
        "outputId": "20f9b8fc-be1e-4d73-9da2-5c2a625effbb"
      },
      "source": [
        "df.isnull().sum().sort_values(ascending=False)"
      ],
      "execution_count": null,
      "outputs": [
        {
          "output_type": "execute_result",
          "data": {
            "text/plain": [
              "itemRevenue                  2044\n",
              "newUsers                        0\n",
              "quantityAddedToCart             0\n",
              "Product_Name                    0\n",
              "Date                            0\n",
              "itemQuantity                    0\n",
              "buyToDetailRate                 0\n",
              "productAddsToCart               0\n",
              "cartToDetailRate                0\n",
              "uniquePurchases                 0\n",
              "revenuePerItem                  0\n",
              "users                           0\n",
              "productRevenuePerPurchase       0\n",
              "itemsPerPurchase                0\n",
              "productDetailViews              0\n",
              "sessions                        0\n",
              "bounceRate                      0\n",
              "pageViews                       0\n",
              "pageviewsPerSession             0\n",
              "sessionDuration                 0\n",
              "SKU                             0\n",
              "dtype: int64"
            ]
          },
          "metadata": {},
          "execution_count": 88
        }
      ]
    },
    {
      "cell_type": "markdown",
      "metadata": {
        "id": "s4HY7_K8ApJW"
      },
      "source": [
        "*The portion of dataframe where some values are missing is the following:*"
      ]
    },
    {
      "cell_type": "code",
      "metadata": {
        "colab": {
          "base_uri": "https://localhost:8080/",
          "height": 364
        },
        "id": "3ViXyNVoAe3D",
        "outputId": "3c0e190d-540e-46e2-861b-5175467b104a"
      },
      "source": [
        "df_miss=df[df.isnull().any(axis=1)]\n",
        "df_miss.head()"
      ],
      "execution_count": null,
      "outputs": [
        {
          "output_type": "execute_result",
          "data": {
            "text/html": [
              "<div>\n",
              "<style scoped>\n",
              "    .dataframe tbody tr th:only-of-type {\n",
              "        vertical-align: middle;\n",
              "    }\n",
              "\n",
              "    .dataframe tbody tr th {\n",
              "        vertical-align: top;\n",
              "    }\n",
              "\n",
              "    .dataframe thead th {\n",
              "        text-align: right;\n",
              "    }\n",
              "</style>\n",
              "<table border=\"1\" class=\"dataframe\">\n",
              "  <thead>\n",
              "    <tr style=\"text-align: right;\">\n",
              "      <th></th>\n",
              "      <th>SKU</th>\n",
              "      <th>Product_Name</th>\n",
              "      <th>Date</th>\n",
              "      <th>itemRevenue</th>\n",
              "      <th>itemQuantity</th>\n",
              "      <th>buyToDetailRate</th>\n",
              "      <th>productAddsToCart</th>\n",
              "      <th>cartToDetailRate</th>\n",
              "      <th>uniquePurchases</th>\n",
              "      <th>quantityAddedToCart</th>\n",
              "      <th>revenuePerItem</th>\n",
              "      <th>productRevenuePerPurchase</th>\n",
              "      <th>itemsPerPurchase</th>\n",
              "      <th>productDetailViews</th>\n",
              "      <th>sessions</th>\n",
              "      <th>bounceRate</th>\n",
              "      <th>pageViews</th>\n",
              "      <th>pageviewsPerSession</th>\n",
              "      <th>sessionDuration</th>\n",
              "      <th>users</th>\n",
              "      <th>newUsers</th>\n",
              "    </tr>\n",
              "  </thead>\n",
              "  <tbody>\n",
              "    <tr>\n",
              "      <th>56</th>\n",
              "      <td>16501-Cherry</td>\n",
              "      <td>Women Cherry Zip Handbags</td>\n",
              "      <td>2021-06-07</td>\n",
              "      <td>NaN</td>\n",
              "      <td>0</td>\n",
              "      <td>0.850405</td>\n",
              "      <td>0</td>\n",
              "      <td>0.345863</td>\n",
              "      <td>0</td>\n",
              "      <td>0</td>\n",
              "      <td>0.0</td>\n",
              "      <td>0.0</td>\n",
              "      <td>0</td>\n",
              "      <td>1</td>\n",
              "      <td>10</td>\n",
              "      <td>0.100487</td>\n",
              "      <td>100</td>\n",
              "      <td>0</td>\n",
              "      <td>780</td>\n",
              "      <td>1</td>\n",
              "      <td>1</td>\n",
              "    </tr>\n",
              "    <tr>\n",
              "      <th>57</th>\n",
              "      <td>16501-Cream</td>\n",
              "      <td>Women Cream Zip Handbags</td>\n",
              "      <td>2021-06-07</td>\n",
              "      <td>NaN</td>\n",
              "      <td>0</td>\n",
              "      <td>0.197876</td>\n",
              "      <td>0</td>\n",
              "      <td>0.530978</td>\n",
              "      <td>0</td>\n",
              "      <td>0</td>\n",
              "      <td>0.0</td>\n",
              "      <td>0.0</td>\n",
              "      <td>0</td>\n",
              "      <td>2</td>\n",
              "      <td>20</td>\n",
              "      <td>0.778570</td>\n",
              "      <td>200</td>\n",
              "      <td>0</td>\n",
              "      <td>71</td>\n",
              "      <td>2</td>\n",
              "      <td>0</td>\n",
              "    </tr>\n",
              "    <tr>\n",
              "      <th>58</th>\n",
              "      <td>16502-Beige</td>\n",
              "      <td>Women Beige Zip Handbags</td>\n",
              "      <td>2021-06-07</td>\n",
              "      <td>NaN</td>\n",
              "      <td>0</td>\n",
              "      <td>0.999675</td>\n",
              "      <td>0</td>\n",
              "      <td>0.533745</td>\n",
              "      <td>0</td>\n",
              "      <td>0</td>\n",
              "      <td>0.0</td>\n",
              "      <td>0.0</td>\n",
              "      <td>0</td>\n",
              "      <td>1</td>\n",
              "      <td>10</td>\n",
              "      <td>0.564948</td>\n",
              "      <td>100</td>\n",
              "      <td>0</td>\n",
              "      <td>168</td>\n",
              "      <td>1</td>\n",
              "      <td>1</td>\n",
              "    </tr>\n",
              "    <tr>\n",
              "      <th>59</th>\n",
              "      <td>16502-Cherry</td>\n",
              "      <td>Women Cherry Zip Handbags</td>\n",
              "      <td>2021-06-07</td>\n",
              "      <td>NaN</td>\n",
              "      <td>0</td>\n",
              "      <td>0.807595</td>\n",
              "      <td>0</td>\n",
              "      <td>0.309247</td>\n",
              "      <td>0</td>\n",
              "      <td>0</td>\n",
              "      <td>0.0</td>\n",
              "      <td>0.0</td>\n",
              "      <td>0</td>\n",
              "      <td>1</td>\n",
              "      <td>10</td>\n",
              "      <td>0.354590</td>\n",
              "      <td>100</td>\n",
              "      <td>0</td>\n",
              "      <td>891</td>\n",
              "      <td>1</td>\n",
              "      <td>1</td>\n",
              "    </tr>\n",
              "    <tr>\n",
              "      <th>60</th>\n",
              "      <td>16503-Tan</td>\n",
              "      <td>Women Tan Zip Handbags</td>\n",
              "      <td>2021-06-07</td>\n",
              "      <td>NaN</td>\n",
              "      <td>0</td>\n",
              "      <td>0.289372</td>\n",
              "      <td>0</td>\n",
              "      <td>0.788002</td>\n",
              "      <td>0</td>\n",
              "      <td>0</td>\n",
              "      <td>0.0</td>\n",
              "      <td>0.0</td>\n",
              "      <td>0</td>\n",
              "      <td>2</td>\n",
              "      <td>20</td>\n",
              "      <td>0.911677</td>\n",
              "      <td>200</td>\n",
              "      <td>0</td>\n",
              "      <td>635</td>\n",
              "      <td>2</td>\n",
              "      <td>0</td>\n",
              "    </tr>\n",
              "  </tbody>\n",
              "</table>\n",
              "</div>"
            ],
            "text/plain": [
              "             SKU               Product_Name  ... users  newUsers\n",
              "56  16501-Cherry  Women Cherry Zip Handbags  ...     1         1\n",
              "57   16501-Cream   Women Cream Zip Handbags  ...     2         0\n",
              "58   16502-Beige   Women Beige Zip Handbags  ...     1         1\n",
              "59  16502-Cherry  Women Cherry Zip Handbags  ...     1         1\n",
              "60     16503-Tan     Women Tan Zip Handbags  ...     2         0\n",
              "\n",
              "[5 rows x 21 columns]"
            ]
          },
          "metadata": {},
          "execution_count": 89
        }
      ]
    },
    {
      "cell_type": "markdown",
      "metadata": {
        "id": "VWttGI3oBCjO"
      },
      "source": [
        "**Is there any relationship between the missing data?**"
      ]
    },
    {
      "cell_type": "code",
      "metadata": {
        "id": "J4gunomTBHKc"
      },
      "source": [
        "df_miss[\"day\"] = df_miss['Date'].map(lambda x: x.day)\n",
        "df_miss[\"month\"] = df_miss['Date'].map(lambda x: x.month)\n",
        "df_miss[\"year\"] = df_miss['Date'].map(lambda x: x.year)"
      ],
      "execution_count": null,
      "outputs": []
    },
    {
      "cell_type": "code",
      "metadata": {
        "id": "5anjeBynCM6J"
      },
      "source": [
        "df_miss['daymonth']=df_miss['day'].astype(str)+'/'+df_miss['month'].astype(str)\n",
        "df_miss['daymonthyear']=df_miss['daymonth'].astype(str)+'/'+df_miss['year'].astype(str)\n",
        "df_miss['monthyear']=df_miss['month'].astype(str)+'/'+df_miss['year'].astype(str)"
      ],
      "execution_count": null,
      "outputs": []
    },
    {
      "cell_type": "code",
      "metadata": {
        "colab": {
          "base_uri": "https://localhost:8080/",
          "height": 364
        },
        "id": "5CQ093PNCPvw",
        "outputId": "ad7f9ca7-9f06-49c7-dac8-f5a606b1baf9"
      },
      "source": [
        "df_miss.head()"
      ],
      "execution_count": null,
      "outputs": [
        {
          "output_type": "execute_result",
          "data": {
            "text/html": [
              "<div>\n",
              "<style scoped>\n",
              "    .dataframe tbody tr th:only-of-type {\n",
              "        vertical-align: middle;\n",
              "    }\n",
              "\n",
              "    .dataframe tbody tr th {\n",
              "        vertical-align: top;\n",
              "    }\n",
              "\n",
              "    .dataframe thead th {\n",
              "        text-align: right;\n",
              "    }\n",
              "</style>\n",
              "<table border=\"1\" class=\"dataframe\">\n",
              "  <thead>\n",
              "    <tr style=\"text-align: right;\">\n",
              "      <th></th>\n",
              "      <th>SKU</th>\n",
              "      <th>Product_Name</th>\n",
              "      <th>Date</th>\n",
              "      <th>itemRevenue</th>\n",
              "      <th>itemQuantity</th>\n",
              "      <th>buyToDetailRate</th>\n",
              "      <th>productAddsToCart</th>\n",
              "      <th>cartToDetailRate</th>\n",
              "      <th>uniquePurchases</th>\n",
              "      <th>quantityAddedToCart</th>\n",
              "      <th>revenuePerItem</th>\n",
              "      <th>productRevenuePerPurchase</th>\n",
              "      <th>itemsPerPurchase</th>\n",
              "      <th>productDetailViews</th>\n",
              "      <th>sessions</th>\n",
              "      <th>bounceRate</th>\n",
              "      <th>pageViews</th>\n",
              "      <th>pageviewsPerSession</th>\n",
              "      <th>sessionDuration</th>\n",
              "      <th>users</th>\n",
              "      <th>newUsers</th>\n",
              "      <th>day</th>\n",
              "      <th>month</th>\n",
              "      <th>year</th>\n",
              "      <th>daymonth</th>\n",
              "      <th>daymonthyear</th>\n",
              "      <th>monthyear</th>\n",
              "    </tr>\n",
              "  </thead>\n",
              "  <tbody>\n",
              "    <tr>\n",
              "      <th>56</th>\n",
              "      <td>16501-Cherry</td>\n",
              "      <td>Women Cherry Zip Handbags</td>\n",
              "      <td>2021-06-07</td>\n",
              "      <td>NaN</td>\n",
              "      <td>0</td>\n",
              "      <td>0.850405</td>\n",
              "      <td>0</td>\n",
              "      <td>0.345863</td>\n",
              "      <td>0</td>\n",
              "      <td>0</td>\n",
              "      <td>0.0</td>\n",
              "      <td>0.0</td>\n",
              "      <td>0</td>\n",
              "      <td>1</td>\n",
              "      <td>10</td>\n",
              "      <td>0.100487</td>\n",
              "      <td>100</td>\n",
              "      <td>0</td>\n",
              "      <td>780</td>\n",
              "      <td>1</td>\n",
              "      <td>1</td>\n",
              "      <td>7</td>\n",
              "      <td>6</td>\n",
              "      <td>2021</td>\n",
              "      <td>7/6</td>\n",
              "      <td>7/6/2021</td>\n",
              "      <td>6/2021</td>\n",
              "    </tr>\n",
              "    <tr>\n",
              "      <th>57</th>\n",
              "      <td>16501-Cream</td>\n",
              "      <td>Women Cream Zip Handbags</td>\n",
              "      <td>2021-06-07</td>\n",
              "      <td>NaN</td>\n",
              "      <td>0</td>\n",
              "      <td>0.197876</td>\n",
              "      <td>0</td>\n",
              "      <td>0.530978</td>\n",
              "      <td>0</td>\n",
              "      <td>0</td>\n",
              "      <td>0.0</td>\n",
              "      <td>0.0</td>\n",
              "      <td>0</td>\n",
              "      <td>2</td>\n",
              "      <td>20</td>\n",
              "      <td>0.778570</td>\n",
              "      <td>200</td>\n",
              "      <td>0</td>\n",
              "      <td>71</td>\n",
              "      <td>2</td>\n",
              "      <td>0</td>\n",
              "      <td>7</td>\n",
              "      <td>6</td>\n",
              "      <td>2021</td>\n",
              "      <td>7/6</td>\n",
              "      <td>7/6/2021</td>\n",
              "      <td>6/2021</td>\n",
              "    </tr>\n",
              "    <tr>\n",
              "      <th>58</th>\n",
              "      <td>16502-Beige</td>\n",
              "      <td>Women Beige Zip Handbags</td>\n",
              "      <td>2021-06-07</td>\n",
              "      <td>NaN</td>\n",
              "      <td>0</td>\n",
              "      <td>0.999675</td>\n",
              "      <td>0</td>\n",
              "      <td>0.533745</td>\n",
              "      <td>0</td>\n",
              "      <td>0</td>\n",
              "      <td>0.0</td>\n",
              "      <td>0.0</td>\n",
              "      <td>0</td>\n",
              "      <td>1</td>\n",
              "      <td>10</td>\n",
              "      <td>0.564948</td>\n",
              "      <td>100</td>\n",
              "      <td>0</td>\n",
              "      <td>168</td>\n",
              "      <td>1</td>\n",
              "      <td>1</td>\n",
              "      <td>7</td>\n",
              "      <td>6</td>\n",
              "      <td>2021</td>\n",
              "      <td>7/6</td>\n",
              "      <td>7/6/2021</td>\n",
              "      <td>6/2021</td>\n",
              "    </tr>\n",
              "    <tr>\n",
              "      <th>59</th>\n",
              "      <td>16502-Cherry</td>\n",
              "      <td>Women Cherry Zip Handbags</td>\n",
              "      <td>2021-06-07</td>\n",
              "      <td>NaN</td>\n",
              "      <td>0</td>\n",
              "      <td>0.807595</td>\n",
              "      <td>0</td>\n",
              "      <td>0.309247</td>\n",
              "      <td>0</td>\n",
              "      <td>0</td>\n",
              "      <td>0.0</td>\n",
              "      <td>0.0</td>\n",
              "      <td>0</td>\n",
              "      <td>1</td>\n",
              "      <td>10</td>\n",
              "      <td>0.354590</td>\n",
              "      <td>100</td>\n",
              "      <td>0</td>\n",
              "      <td>891</td>\n",
              "      <td>1</td>\n",
              "      <td>1</td>\n",
              "      <td>7</td>\n",
              "      <td>6</td>\n",
              "      <td>2021</td>\n",
              "      <td>7/6</td>\n",
              "      <td>7/6/2021</td>\n",
              "      <td>6/2021</td>\n",
              "    </tr>\n",
              "    <tr>\n",
              "      <th>60</th>\n",
              "      <td>16503-Tan</td>\n",
              "      <td>Women Tan Zip Handbags</td>\n",
              "      <td>2021-06-07</td>\n",
              "      <td>NaN</td>\n",
              "      <td>0</td>\n",
              "      <td>0.289372</td>\n",
              "      <td>0</td>\n",
              "      <td>0.788002</td>\n",
              "      <td>0</td>\n",
              "      <td>0</td>\n",
              "      <td>0.0</td>\n",
              "      <td>0.0</td>\n",
              "      <td>0</td>\n",
              "      <td>2</td>\n",
              "      <td>20</td>\n",
              "      <td>0.911677</td>\n",
              "      <td>200</td>\n",
              "      <td>0</td>\n",
              "      <td>635</td>\n",
              "      <td>2</td>\n",
              "      <td>0</td>\n",
              "      <td>7</td>\n",
              "      <td>6</td>\n",
              "      <td>2021</td>\n",
              "      <td>7/6</td>\n",
              "      <td>7/6/2021</td>\n",
              "      <td>6/2021</td>\n",
              "    </tr>\n",
              "  </tbody>\n",
              "</table>\n",
              "</div>"
            ],
            "text/plain": [
              "             SKU               Product_Name  ... daymonthyear  monthyear\n",
              "56  16501-Cherry  Women Cherry Zip Handbags  ...     7/6/2021     6/2021\n",
              "57   16501-Cream   Women Cream Zip Handbags  ...     7/6/2021     6/2021\n",
              "58   16502-Beige   Women Beige Zip Handbags  ...     7/6/2021     6/2021\n",
              "59  16502-Cherry  Women Cherry Zip Handbags  ...     7/6/2021     6/2021\n",
              "60     16503-Tan     Women Tan Zip Handbags  ...     7/6/2021     6/2021\n",
              "\n",
              "[5 rows x 27 columns]"
            ]
          },
          "metadata": {},
          "execution_count": 92
        }
      ]
    },
    {
      "cell_type": "code",
      "metadata": {
        "colab": {
          "base_uri": "https://localhost:8080/",
          "height": 428
        },
        "id": "MVopHejSCWl1",
        "outputId": "6bce1ad3-0884-416a-8397-e84a1241c590"
      },
      "source": [
        "fig, ax = plt.subplots(figsize=(20,6))\n",
        "ax = sns.countplot(x='daymonthyear', data=df_miss)\n",
        "ax.set_xticklabels(ax.get_xticklabels(),rotation = 90);"
      ],
      "execution_count": null,
      "outputs": [
        {
          "output_type": "display_data",
          "data": {
            "image/png": "[encoded data removed]",
            "text/plain": [
              "<Figure size 1440x432 with 1 Axes>"
            ]
          },
          "metadata": {
            "needs_background": "light"
          }
        }
      ]
    },
    {
      "cell_type": "markdown",
      "metadata": {
        "id": "2mbzJAxYDFnC"
      },
      "source": [
        " *its clear that during some days there have been more missing values than others. In particular the days with most missing values are:*"
      ]
    },
    {
      "cell_type": "code",
      "metadata": {
        "colab": {
          "base_uri": "https://localhost:8080/",
          "height": 387
        },
        "id": "6edixdwADQuH",
        "outputId": "8f896065-4666-45d5-89a7-d048d3898a44"
      },
      "source": [
        "sns.displot(df_miss['daymonthyear'].value_counts())"
      ],
      "execution_count": null,
      "outputs": [
        {
          "output_type": "execute_result",
          "data": {
            "text/plain": [
              "<seaborn.axisgrid.FacetGrid at 0x7ff3926d4e50>"
            ]
          },
          "metadata": {},
          "execution_count": 94
        },
        {
          "output_type": "display_data",
          "data": {
            "image/png": "[encoded data removed]",
            "text/plain": [
              "<Figure size 360x360 with 1 Axes>"
            ]
          },
          "metadata": {
            "needs_background": "light"
          }
        }
      ]
    },
    {
      "cell_type": "markdown",
      "metadata": {
        "id": "18yP4TR5Dn7o"
      },
      "source": [
        "*We can see that during some days, more than 500 customers_id are missing. We will now check the days where most cusomers id are missing.*"
      ]
    },
    {
      "cell_type": "code",
      "metadata": {
        "colab": {
          "base_uri": "https://localhost:8080/"
        },
        "id": "-xSbNXR_Dr0X",
        "outputId": "229ef473-9618-4f43-83a1-657658ae8476"
      },
      "source": [
        "df_miss['daymonthyear'].value_counts()[:20]"
      ],
      "execution_count": null,
      "outputs": [
        {
          "output_type": "execute_result",
          "data": {
            "text/plain": [
              "7/6/2021     544\n",
              "6/6/2021     269\n",
              "8/6/2021     264\n",
              "10/6/2021    259\n",
              "9/6/2021     241\n",
              "5/6/2021     239\n",
              "4/6/2021     228\n",
              "Name: daymonthyear, dtype: int64"
            ]
          },
          "metadata": {},
          "execution_count": 95
        }
      ]
    },
    {
      "cell_type": "markdown",
      "metadata": {
        "id": "EKRCbxbsD8sJ"
      },
      "source": [
        "*It could be interesting to check if during these days something happend and caused the missing values*"
      ]
    },
    {
      "cell_type": "markdown",
      "metadata": {
        "id": "vVDv27UXD-6r"
      },
      "source": [
        "*For further analysis, the rows with missing values will be dropped and a new df called 'df_new' will be defined*"
      ]
    },
    {
      "cell_type": "code",
      "metadata": {
        "id": "PgG8EW0DED6w"
      },
      "source": [
        "df_new=df.dropna()"
      ],
      "execution_count": null,
      "outputs": []
    },
    {
      "cell_type": "code",
      "metadata": {
        "colab": {
          "base_uri": "https://localhost:8080/"
        },
        "id": "MnGUrrewEMZw",
        "outputId": "8769cfad-bd89-48ce-8a01-68fb0af0aafe"
      },
      "source": [
        "#check if there a are missing values in the new dataframe\n",
        "df_new.isnull().sum().sort_values(ascending=False)"
      ],
      "execution_count": null,
      "outputs": [
        {
          "output_type": "execute_result",
          "data": {
            "text/plain": [
              "newUsers                     0\n",
              "quantityAddedToCart          0\n",
              "Product_Name                 0\n",
              "Date                         0\n",
              "itemRevenue                  0\n",
              "itemQuantity                 0\n",
              "buyToDetailRate              0\n",
              "productAddsToCart            0\n",
              "cartToDetailRate             0\n",
              "uniquePurchases              0\n",
              "revenuePerItem               0\n",
              "users                        0\n",
              "productRevenuePerPurchase    0\n",
              "itemsPerPurchase             0\n",
              "productDetailViews           0\n",
              "sessions                     0\n",
              "bounceRate                   0\n",
              "pageViews                    0\n",
              "pageviewsPerSession          0\n",
              "sessionDuration              0\n",
              "SKU                          0\n",
              "dtype: int64"
            ]
          },
          "metadata": {},
          "execution_count": 97
        }
      ]
    },
    {
      "cell_type": "markdown",
      "metadata": {
        "id": "ADineKBvEXQ3"
      },
      "source": [
        "*Now the dataframe does not have any missing values*"
      ]
    },
    {
      "cell_type": "markdown",
      "metadata": {
        "id": "grfeOh0SEeWj"
      },
      "source": [
        "**Duplicated Values handling**"
      ]
    },
    {
      "cell_type": "code",
      "metadata": {
        "colab": {
          "base_uri": "https://localhost:8080/",
          "height": 70
        },
        "id": "0U1VzUdtETov",
        "outputId": "84b68761-c075-499c-c8e6-3160432a7c71"
      },
      "source": [
        "df_new[df_new.duplicated()].head()"
      ],
      "execution_count": null,
      "outputs": [
        {
          "output_type": "execute_result",
          "data": {
            "text/html": [
              "<div>\n",
              "<style scoped>\n",
              "    .dataframe tbody tr th:only-of-type {\n",
              "        vertical-align: middle;\n",
              "    }\n",
              "\n",
              "    .dataframe tbody tr th {\n",
              "        vertical-align: top;\n",
              "    }\n",
              "\n",
              "    .dataframe thead th {\n",
              "        text-align: right;\n",
              "    }\n",
              "</style>\n",
              "<table border=\"1\" class=\"dataframe\">\n",
              "  <thead>\n",
              "    <tr style=\"text-align: right;\">\n",
              "      <th></th>\n",
              "      <th>SKU</th>\n",
              "      <th>Product_Name</th>\n",
              "      <th>Date</th>\n",
              "      <th>itemRevenue</th>\n",
              "      <th>itemQuantity</th>\n",
              "      <th>buyToDetailRate</th>\n",
              "      <th>productAddsToCart</th>\n",
              "      <th>cartToDetailRate</th>\n",
              "      <th>uniquePurchases</th>\n",
              "      <th>quantityAddedToCart</th>\n",
              "      <th>revenuePerItem</th>\n",
              "      <th>productRevenuePerPurchase</th>\n",
              "      <th>itemsPerPurchase</th>\n",
              "      <th>productDetailViews</th>\n",
              "      <th>sessions</th>\n",
              "      <th>bounceRate</th>\n",
              "      <th>pageViews</th>\n",
              "      <th>pageviewsPerSession</th>\n",
              "      <th>sessionDuration</th>\n",
              "      <th>users</th>\n",
              "      <th>newUsers</th>\n",
              "    </tr>\n",
              "  </thead>\n",
              "  <tbody>\n",
              "  </tbody>\n",
              "</table>\n",
              "</div>"
            ],
            "text/plain": [
              "Empty DataFrame\n",
              "Columns: [SKU, Product_Name, Date, itemRevenue, itemQuantity, buyToDetailRate, productAddsToCart, cartToDetailRate, uniquePurchases, quantityAddedToCart, revenuePerItem, productRevenuePerPurchase, itemsPerPurchase, productDetailViews, sessions, bounceRate, pageViews, pageviewsPerSession, sessionDuration, users, newUsers]\n",
              "Index: []"
            ]
          },
          "metadata": {},
          "execution_count": 98
        }
      ]
    },
    {
      "cell_type": "code",
      "metadata": {
        "colab": {
          "base_uri": "https://localhost:8080/"
        },
        "id": "AHEueiTBEoAZ",
        "outputId": "620ba634-9cfd-46f4-874e-b56b549c3609"
      },
      "source": [
        "df_new.duplicated().sum()"
      ],
      "execution_count": null,
      "outputs": [
        {
          "output_type": "execute_result",
          "data": {
            "text/plain": [
              "0"
            ]
          },
          "metadata": {},
          "execution_count": 99
        }
      ]
    },
    {
      "cell_type": "markdown",
      "metadata": {
        "id": "46oyksazE8MK"
      },
      "source": [
        "*There are no duplicated transactions in this dataset*"
      ]
    },
    {
      "cell_type": "markdown",
      "metadata": {
        "id": "KoECOyOScbT0"
      },
      "source": [
        "## **2. Exploratory Data Analysis (EDA)**"
      ]
    },
    {
      "cell_type": "markdown",
      "metadata": {
        "id": "HRIkdv0xc-6y"
      },
      "source": [
        "**How many orders by the users?**"
      ]
    },
    {
      "cell_type": "code",
      "metadata": {
        "colab": {
          "base_uri": "https://localhost:8080/"
        },
        "id": "iYvjjzqxcj4y",
        "outputId": "aaef7a56-6bc7-497d-c08a-3cad06ab1d5e"
      },
      "source": [
        "orders=df_new.groupby(by=['SKU','Product_Name'], as_index=True)['users'].count()\n",
        "orders"
      ],
      "execution_count": null,
      "outputs": [
        {
          "output_type": "execute_result",
          "data": {
            "text/plain": [
              "SKU                     Product_Name                 \n",
              "A1CA0001CWHT00009G239   Kids White School Shoes          1\n",
              "A1EV1125CBLK00013G95    Kids Black P-Toes Flip-Flops     1\n",
              "A1EV1170LBLK00008G120   Women's  Black Sandal            1\n",
              "A1EV1215LBKR00007G105   Women's Red  Flip-Flops          1\n",
              "A1EV1267GRED00008G199   Men's Casual Red Flip-Flops      1\n",
              "                                                        ..\n",
              "A1PV0694CPBLU00011G269  Kids P-Toes Blue Casual Shoes    1\n",
              "A1R10537LCRM00007G599   Women's  Plus Cream Sandal       2\n",
              "A1R11603GBLK00011G749   Men's  Plus Black Sandal         2\n",
              "R15503G42G699           Men's Black  Formal Belt         1\n",
              "R15513G42G799           Men's Brown  Formal Belt         1\n",
              "Name: users, Length: 85, dtype: int64"
            ]
          },
          "metadata": {},
          "execution_count": 100
        }
      ]
    },
    {
      "cell_type": "markdown",
      "metadata": {
        "id": "_3yBv64Ed89r"
      },
      "source": [
        "The column users has the count of users for each SKU\n",
        "\n",
        "The equivalent code in SQL would be:\n",
        "\n",
        "SELECT SKU,  Product_Name, count(users)\n",
        "\n",
        "FROM df_new\n",
        "\n",
        "GROUP BY  SKU,  Product_Name\n",
        "\n",
        "ORDER BY  SKU;"
      ]
    },
    {
      "cell_type": "markdown",
      "metadata": {
        "id": "_FOd9Id8j-xC"
      },
      "source": [
        "*Let's continue checking Product_Name column. Here we can see items that were bought most often.*"
      ]
    },
    {
      "cell_type": "code",
      "metadata": {
        "colab": {
          "base_uri": "https://localhost:8080/"
        },
        "id": "pD5XVx8CjzUE",
        "outputId": "86a8dca6-8de9-49f7-a02d-7599fd3e83cb"
      },
      "source": [
        "df['Product_Name'].value_counts().head()"
      ],
      "execution_count": null,
      "outputs": [
        {
          "output_type": "execute_result",
          "data": {
            "text/plain": [
              "Men's Black  Flip-Flops     126\n",
              "Men's Grey  Sandals          66\n",
              "Men's Brown  Flip-Flops      57\n",
              "Men's Brown  Formal Belt     43\n",
              "Women's Blue  Flip-Flops     42\n",
              "Name: Product_Name, dtype: int64"
            ]
          },
          "metadata": {},
          "execution_count": 101
        }
      ]
    },
    {
      "cell_type": "markdown",
      "metadata": {
        "id": "0RksqQG8kLBD"
      },
      "source": [
        "Here we can see our best selling products, items that appear in orders the most often. Also to make it visually more appealing let's create a bar chart for 15 top items."
      ]
    },
    {
      "cell_type": "code",
      "metadata": {
        "colab": {
          "base_uri": "https://localhost:8080/",
          "height": 524
        },
        "id": "ChDk0G2Ii1QD",
        "outputId": "a041d17d-620b-4fc0-e338-3bb8232375e7"
      },
      "source": [
        "item_counts = df['Product_Name'].value_counts().sort_values(ascending=False).iloc[0:15]\n",
        "plt.figure(figsize=(18,6))\n",
        "sns.barplot(item_counts.index, item_counts.values, palette=sns.cubehelix_palette(15))\n",
        "plt.ylabel(\"Counts\")\n",
        "plt.title(\"Which items were bought more often?\");\n",
        "plt.xticks(rotation=90);"
      ],
      "execution_count": null,
      "outputs": [
        {
          "output_type": "display_data",
          "data": {
            "image/png": "[encoded data removed]",
            "text/plain": [
              "<Figure size 1296x432 with 1 Axes>"
            ]
          },
          "metadata": {
            "needs_background": "light"
          }
        }
      ]
    },
    {
      "cell_type": "code",
      "metadata": {
        "colab": {
          "base_uri": "https://localhost:8080/"
        },
        "id": "ZlgO4rldjc75",
        "outputId": "38b0047f-67ea-42f1-ea6d-c3ddc27bbf93"
      },
      "source": [
        "df['Product_Name'].value_counts().tail()"
      ],
      "execution_count": null,
      "outputs": [
        {
          "output_type": "execute_result",
          "data": {
            "text/plain": [
              "Men's Brown Walkie Semi Formal         1\n",
              "Women's P Toes Pink Sandals            1\n",
              "Men's Black & Red  Sports Shoes        1\n",
              "Men's Slickers  Black Formal Sandal    1\n",
              "Men's   Tan Casual shoes               1\n",
              "Name: Product_Name, dtype: int64"
            ]
          },
          "metadata": {},
          "execution_count": 103
        }
      ]
    },
    {
      "cell_type": "markdown",
      "metadata": {
        "id": "iMJ14scPjoA3"
      },
      "source": [
        "We also notice from above code that valid items are normally uppercased and non-valid or cancelations are in lower case"
      ]
    },
    {
      "cell_type": "code",
      "metadata": {
        "colab": {
          "base_uri": "https://localhost:8080/"
        },
        "id": "riSfvWWkkTMl",
        "outputId": "0b377a6f-e16d-4216-f17c-6cfdd391052d"
      },
      "source": [
        "df[~df['Product_Name'].str.islower()]['Product_Name'].value_counts().head()"
      ],
      "execution_count": null,
      "outputs": [
        {
          "output_type": "execute_result",
          "data": {
            "text/plain": [
              "Men's Black  Flip-Flops     126\n",
              "Men's Grey  Sandals          66\n",
              "Men's Brown  Flip-Flops      57\n",
              "Men's Brown  Formal Belt     43\n",
              "Women's Blue  Flip-Flops     42\n",
              "Name: Product_Name, dtype: int64"
            ]
          },
          "metadata": {},
          "execution_count": 104
        }
      ]
    },
    {
      "cell_type": "markdown",
      "metadata": {
        "id": "_HZVfM-Kk-80"
      },
      "source": [
        "Quick check of the case of letters in Product_Name says that there are no units with upper case letters in their name. So we can understand that data management in the store need to look into this."
      ]
    },
    {
      "cell_type": "code",
      "metadata": {
        "colab": {
          "base_uri": "https://localhost:8080/",
          "height": 524
        },
        "id": "D5lgyB0dldh1",
        "outputId": "d857d037-6b76-49b9-a386-ca486267669f"
      },
      "source": [
        "lcase_counts = df[~df['Product_Name'].str.islower()]['Product_Name'].value_counts().sort_values(ascending=False).iloc[0:15]\n",
        "plt.figure(figsize=(18,6))\n",
        "sns.barplot(lcase_counts.index, lcase_counts.values, palette=sns.color_palette(\"hls\", 15))\n",
        "plt.ylabel(\"Counts\")\n",
        "plt.title(\"Not full upper case items\");\n",
        "plt.xticks(rotation=90);"
      ],
      "execution_count": null,
      "outputs": [
        {
          "output_type": "display_data",
          "data": {
            "image/png": "[encoded data removed]",
            "text/plain": [
              "<Figure size 1296x432 with 1 Axes>"
            ]
          },
          "metadata": {
            "needs_background": "light"
          }
        }
      ]
    },
    {
      "cell_type": "markdown",
      "metadata": {
        "id": "DGWxQLjbmySl"
      },
      "source": [
        "ALso checking out SKU."
      ]
    },
    {
      "cell_type": "code",
      "metadata": {
        "colab": {
          "base_uri": "https://localhost:8080/"
        },
        "id": "lJ_kBsZmmy5X",
        "outputId": "2e5f8d1f-b2d7-4e62-cef3-41947b481dff"
      },
      "source": [
        "df['SKU'].value_counts().head()"
      ],
      "execution_count": null,
      "outputs": [
        {
          "output_type": "execute_result",
          "data": {
            "text/plain": [
              "EV1136L-Black        7\n",
              "FB9066G-Black-Red    7\n",
              "EV0740G-Black        7\n",
              "EV1279L-Pink         7\n",
              "EV2234G-Black        7\n",
              "Name: SKU, dtype: int64"
            ]
          },
          "metadata": {},
          "execution_count": 106
        }
      ]
    },
    {
      "cell_type": "code",
      "metadata": {
        "colab": {
          "base_uri": "https://localhost:8080/",
          "height": 518
        },
        "id": "IUrHQzeunSF4",
        "outputId": "e1e8bc2e-8e96-4fd1-b5c4-00069a05dbc6"
      },
      "source": [
        "stock_counts = df['SKU'].value_counts().sort_values(ascending=False).iloc[0:15]\n",
        "plt.figure(figsize=(18,6))\n",
        "sns.barplot(stock_counts.index, stock_counts.values, palette=sns.color_palette(\"GnBu_d\"))\n",
        "plt.ylabel(\"Counts\")\n",
        "plt.title(\"Which SKU were used the most?\");\n",
        "plt.xticks(rotation=90);"
      ],
      "execution_count": null,
      "outputs": [
        {
          "output_type": "display_data",
          "data": {
            "image/png": "[encoded data removed]",
            "text/plain": [
              "<Figure size 1296x432 with 1 Axes>"
            ]
          },
          "metadata": {
            "needs_background": "light"
          }
        }
      ]
    },
    {
      "cell_type": "markdown",
      "metadata": {
        "id": "166JlBCCsr1v"
      },
      "source": [
        "During exploratory data analysis we can go back to the same operations and checks, just to understand how our actions affected the dataset. EDA is the series of repetitive tasks to understand better our data. And here, for example we get back to .describe() method to get an overall picture of our data after some manipulations.\n",
        "\n",
        "We still see negative quantities and negative prices, let's get into those records."
      ]
    },
    {
      "cell_type": "code",
      "metadata": {
        "colab": {
          "base_uri": "https://localhost:8080/",
          "height": 70
        },
        "id": "PG3SLtX3ssvc",
        "outputId": "a0578221-a657-4855-fd6d-3b811aa21b58"
      },
      "source": [
        "# df[df['Quantity'] < 0]\n",
        "df[df['itemQuantity'] < 0].head()"
      ],
      "execution_count": null,
      "outputs": [
        {
          "output_type": "execute_result",
          "data": {
            "text/html": [
              "<div>\n",
              "<style scoped>\n",
              "    .dataframe tbody tr th:only-of-type {\n",
              "        vertical-align: middle;\n",
              "    }\n",
              "\n",
              "    .dataframe tbody tr th {\n",
              "        vertical-align: top;\n",
              "    }\n",
              "\n",
              "    .dataframe thead th {\n",
              "        text-align: right;\n",
              "    }\n",
              "</style>\n",
              "<table border=\"1\" class=\"dataframe\">\n",
              "  <thead>\n",
              "    <tr style=\"text-align: right;\">\n",
              "      <th></th>\n",
              "      <th>SKU</th>\n",
              "      <th>Product_Name</th>\n",
              "      <th>Date</th>\n",
              "      <th>itemRevenue</th>\n",
              "      <th>itemQuantity</th>\n",
              "      <th>buyToDetailRate</th>\n",
              "      <th>productAddsToCart</th>\n",
              "      <th>cartToDetailRate</th>\n",
              "      <th>uniquePurchases</th>\n",
              "      <th>quantityAddedToCart</th>\n",
              "      <th>revenuePerItem</th>\n",
              "      <th>productRevenuePerPurchase</th>\n",
              "      <th>itemsPerPurchase</th>\n",
              "      <th>productDetailViews</th>\n",
              "      <th>sessions</th>\n",
              "      <th>bounceRate</th>\n",
              "      <th>pageViews</th>\n",
              "      <th>pageviewsPerSession</th>\n",
              "      <th>sessionDuration</th>\n",
              "      <th>users</th>\n",
              "      <th>newUsers</th>\n",
              "    </tr>\n",
              "  </thead>\n",
              "  <tbody>\n",
              "  </tbody>\n",
              "</table>\n",
              "</div>"
            ],
            "text/plain": [
              "Empty DataFrame\n",
              "Columns: [SKU, Product_Name, Date, itemRevenue, itemQuantity, buyToDetailRate, productAddsToCart, cartToDetailRate, uniquePurchases, quantityAddedToCart, revenuePerItem, productRevenuePerPurchase, itemsPerPurchase, productDetailViews, sessions, bounceRate, pageViews, pageviewsPerSession, sessionDuration, users, newUsers]\n",
              "Index: []"
            ]
          },
          "metadata": {},
          "execution_count": 108
        }
      ]
    },
    {
      "cell_type": "markdown",
      "metadata": {
        "id": "vmf65Mams5Px"
      },
      "source": [
        "Here we can see that there are no  \"Negative quantities\"."
      ]
    },
    {
      "cell_type": "markdown",
      "metadata": {
        "id": "CJbZfmzJz5ho"
      },
      "source": [
        "During exploratory data analysis we can go back to the same operations and checks, just to understand how our actions affected the dataset. EDA is the series of repetitive tasks to understand better our data. And here, for example we get back to .describe() method to get an overall picture of our data after some manipulations."
      ]
    },
    {
      "cell_type": "code",
      "metadata": {
        "colab": {
          "base_uri": "https://localhost:8080/",
          "height": 320
        },
        "id": "G9jz_yUxxg3u",
        "outputId": "12ca8e2c-562b-4fa3-8895-3effaaed18f6"
      },
      "source": [
        "df = df[df['revenuePerItem'] > 0]\n",
        "df.describe()"
      ],
      "execution_count": null,
      "outputs": [
        {
          "output_type": "execute_result",
          "data": {
            "text/html": [
              "<div>\n",
              "<style scoped>\n",
              "    .dataframe tbody tr th:only-of-type {\n",
              "        vertical-align: middle;\n",
              "    }\n",
              "\n",
              "    .dataframe tbody tr th {\n",
              "        vertical-align: top;\n",
              "    }\n",
              "\n",
              "    .dataframe thead th {\n",
              "        text-align: right;\n",
              "    }\n",
              "</style>\n",
              "<table border=\"1\" class=\"dataframe\">\n",
              "  <thead>\n",
              "    <tr style=\"text-align: right;\">\n",
              "      <th></th>\n",
              "      <th>itemRevenue</th>\n",
              "      <th>itemQuantity</th>\n",
              "      <th>buyToDetailRate</th>\n",
              "      <th>productAddsToCart</th>\n",
              "      <th>cartToDetailRate</th>\n",
              "      <th>uniquePurchases</th>\n",
              "      <th>quantityAddedToCart</th>\n",
              "      <th>revenuePerItem</th>\n",
              "      <th>productRevenuePerPurchase</th>\n",
              "      <th>itemsPerPurchase</th>\n",
              "      <th>productDetailViews</th>\n",
              "      <th>sessions</th>\n",
              "      <th>bounceRate</th>\n",
              "      <th>pageViews</th>\n",
              "      <th>pageviewsPerSession</th>\n",
              "      <th>sessionDuration</th>\n",
              "      <th>users</th>\n",
              "      <th>newUsers</th>\n",
              "    </tr>\n",
              "  </thead>\n",
              "  <tbody>\n",
              "    <tr>\n",
              "      <th>count</th>\n",
              "      <td>126.000000</td>\n",
              "      <td>126.000000</td>\n",
              "      <td>126.000000</td>\n",
              "      <td>126.000000</td>\n",
              "      <td>126.000000</td>\n",
              "      <td>126.000000</td>\n",
              "      <td>126.000000</td>\n",
              "      <td>126.000000</td>\n",
              "      <td>126.000000</td>\n",
              "      <td>126.000000</td>\n",
              "      <td>126.0</td>\n",
              "      <td>126.000000</td>\n",
              "      <td>126.000000</td>\n",
              "      <td>126.000000</td>\n",
              "      <td>126.0</td>\n",
              "      <td>126.000000</td>\n",
              "      <td>126.000000</td>\n",
              "      <td>126.000000</td>\n",
              "    </tr>\n",
              "    <tr>\n",
              "      <th>mean</th>\n",
              "      <td>361.769841</td>\n",
              "      <td>1.396825</td>\n",
              "      <td>0.510757</td>\n",
              "      <td>0.865079</td>\n",
              "      <td>0.496335</td>\n",
              "      <td>1.365079</td>\n",
              "      <td>0.888889</td>\n",
              "      <td>240.907407</td>\n",
              "      <td>245.050265</td>\n",
              "      <td>1.031746</td>\n",
              "      <td>0.0</td>\n",
              "      <td>11.587302</td>\n",
              "      <td>0.529753</td>\n",
              "      <td>115.873016</td>\n",
              "      <td>0.0</td>\n",
              "      <td>485.587302</td>\n",
              "      <td>1.158730</td>\n",
              "      <td>0.531746</td>\n",
              "    </tr>\n",
              "    <tr>\n",
              "      <th>std</th>\n",
              "      <td>320.845032</td>\n",
              "      <td>0.738424</td>\n",
              "      <td>0.294364</td>\n",
              "      <td>1.014717</td>\n",
              "      <td>0.287586</td>\n",
              "      <td>0.733247</td>\n",
              "      <td>1.067500</td>\n",
              "      <td>142.951718</td>\n",
              "      <td>141.565569</td>\n",
              "      <td>0.176023</td>\n",
              "      <td>0.0</td>\n",
              "      <td>4.632528</td>\n",
              "      <td>0.300776</td>\n",
              "      <td>46.325282</td>\n",
              "      <td>0.0</td>\n",
              "      <td>292.931207</td>\n",
              "      <td>0.463253</td>\n",
              "      <td>0.665571</td>\n",
              "    </tr>\n",
              "    <tr>\n",
              "      <th>min</th>\n",
              "      <td>77.000000</td>\n",
              "      <td>1.000000</td>\n",
              "      <td>0.002249</td>\n",
              "      <td>0.000000</td>\n",
              "      <td>0.002167</td>\n",
              "      <td>1.000000</td>\n",
              "      <td>0.000000</td>\n",
              "      <td>77.000000</td>\n",
              "      <td>77.000000</td>\n",
              "      <td>1.000000</td>\n",
              "      <td>0.0</td>\n",
              "      <td>10.000000</td>\n",
              "      <td>0.001045</td>\n",
              "      <td>100.000000</td>\n",
              "      <td>0.0</td>\n",
              "      <td>10.000000</td>\n",
              "      <td>1.000000</td>\n",
              "      <td>0.000000</td>\n",
              "    </tr>\n",
              "    <tr>\n",
              "      <th>25%</th>\n",
              "      <td>129.250000</td>\n",
              "      <td>1.000000</td>\n",
              "      <td>0.262570</td>\n",
              "      <td>0.000000</td>\n",
              "      <td>0.251957</td>\n",
              "      <td>1.000000</td>\n",
              "      <td>0.000000</td>\n",
              "      <td>126.000000</td>\n",
              "      <td>126.000000</td>\n",
              "      <td>1.000000</td>\n",
              "      <td>0.0</td>\n",
              "      <td>10.000000</td>\n",
              "      <td>0.256912</td>\n",
              "      <td>100.000000</td>\n",
              "      <td>0.0</td>\n",
              "      <td>236.500000</td>\n",
              "      <td>1.000000</td>\n",
              "      <td>0.000000</td>\n",
              "    </tr>\n",
              "    <tr>\n",
              "      <th>50%</th>\n",
              "      <td>224.500000</td>\n",
              "      <td>1.000000</td>\n",
              "      <td>0.531981</td>\n",
              "      <td>1.000000</td>\n",
              "      <td>0.498651</td>\n",
              "      <td>1.000000</td>\n",
              "      <td>1.000000</td>\n",
              "      <td>209.000000</td>\n",
              "      <td>209.000000</td>\n",
              "      <td>1.000000</td>\n",
              "      <td>0.0</td>\n",
              "      <td>10.000000</td>\n",
              "      <td>0.583011</td>\n",
              "      <td>100.000000</td>\n",
              "      <td>0.0</td>\n",
              "      <td>459.500000</td>\n",
              "      <td>1.000000</td>\n",
              "      <td>0.000000</td>\n",
              "    </tr>\n",
              "    <tr>\n",
              "      <th>75%</th>\n",
              "      <td>539.000000</td>\n",
              "      <td>2.000000</td>\n",
              "      <td>0.754097</td>\n",
              "      <td>1.000000</td>\n",
              "      <td>0.758365</td>\n",
              "      <td>2.000000</td>\n",
              "      <td>1.000000</td>\n",
              "      <td>329.000000</td>\n",
              "      <td>329.000000</td>\n",
              "      <td>1.000000</td>\n",
              "      <td>0.0</td>\n",
              "      <td>10.000000</td>\n",
              "      <td>0.757587</td>\n",
              "      <td>100.000000</td>\n",
              "      <td>0.0</td>\n",
              "      <td>761.500000</td>\n",
              "      <td>1.000000</td>\n",
              "      <td>1.000000</td>\n",
              "    </tr>\n",
              "    <tr>\n",
              "      <th>max</th>\n",
              "      <td>1518.000000</td>\n",
              "      <td>4.000000</td>\n",
              "      <td>0.998032</td>\n",
              "      <td>5.000000</td>\n",
              "      <td>0.993690</td>\n",
              "      <td>4.000000</td>\n",
              "      <td>5.000000</td>\n",
              "      <td>759.000000</td>\n",
              "      <td>759.000000</td>\n",
              "      <td>2.000000</td>\n",
              "      <td>0.0</td>\n",
              "      <td>40.000000</td>\n",
              "      <td>0.993077</td>\n",
              "      <td>400.000000</td>\n",
              "      <td>0.0</td>\n",
              "      <td>997.000000</td>\n",
              "      <td>4.000000</td>\n",
              "      <td>4.000000</td>\n",
              "    </tr>\n",
              "  </tbody>\n",
              "</table>\n",
              "</div>"
            ],
            "text/plain": [
              "       itemRevenue  itemQuantity  ...       users    newUsers\n",
              "count   126.000000    126.000000  ...  126.000000  126.000000\n",
              "mean    361.769841      1.396825  ...    1.158730    0.531746\n",
              "std     320.845032      0.738424  ...    0.463253    0.665571\n",
              "min      77.000000      1.000000  ...    1.000000    0.000000\n",
              "25%     129.250000      1.000000  ...    1.000000    0.000000\n",
              "50%     224.500000      1.000000  ...    1.000000    0.000000\n",
              "75%     539.000000      2.000000  ...    1.000000    1.000000\n",
              "max    1518.000000      4.000000  ...    4.000000    4.000000\n",
              "\n",
              "[8 rows x 18 columns]"
            ]
          },
          "metadata": {},
          "execution_count": 109
        }
      ]
    },
    {
      "cell_type": "markdown",
      "metadata": {
        "id": "AG0KIXrruG1Y"
      },
      "source": [
        "As we have finished cleaning our data and removed all suspicious records we can start creating some new features for our model. Let's start with the most obvious one - TotalSales. We have quantities, we have revenuesPerItem - we can calculate the Total revenue."
      ]
    },
    {
      "cell_type": "markdown",
      "metadata": {
        "id": "GPX8P0jGtbaL"
      },
      "source": [
        "## **3. Feature Engineering**"
      ]
    },
    {
      "cell_type": "code",
      "metadata": {
        "id": "Kx7kwbotu11d"
      },
      "source": [
        "df_new['total_revenue']=df_new['itemQuantity'] * df_new['itemRevenue']"
      ],
      "execution_count": null,
      "outputs": []
    },
    {
      "cell_type": "code",
      "metadata": {
        "colab": {
          "base_uri": "https://localhost:8080/",
          "height": 330
        },
        "id": "DzHOxNCAvHKu",
        "outputId": "3bea7452-d088-4d90-e8ae-43be5494acb2"
      },
      "source": [
        "df_new.head()"
      ],
      "execution_count": null,
      "outputs": [
        {
          "output_type": "execute_result",
          "data": {
            "text/html": [
              "<div>\n",
              "<style scoped>\n",
              "    .dataframe tbody tr th:only-of-type {\n",
              "        vertical-align: middle;\n",
              "    }\n",
              "\n",
              "    .dataframe tbody tr th {\n",
              "        vertical-align: top;\n",
              "    }\n",
              "\n",
              "    .dataframe thead th {\n",
              "        text-align: right;\n",
              "    }\n",
              "</style>\n",
              "<table border=\"1\" class=\"dataframe\">\n",
              "  <thead>\n",
              "    <tr style=\"text-align: right;\">\n",
              "      <th></th>\n",
              "      <th>SKU</th>\n",
              "      <th>Product_Name</th>\n",
              "      <th>Date</th>\n",
              "      <th>itemRevenue</th>\n",
              "      <th>itemQuantity</th>\n",
              "      <th>buyToDetailRate</th>\n",
              "      <th>productAddsToCart</th>\n",
              "      <th>cartToDetailRate</th>\n",
              "      <th>uniquePurchases</th>\n",
              "      <th>quantityAddedToCart</th>\n",
              "      <th>revenuePerItem</th>\n",
              "      <th>productRevenuePerPurchase</th>\n",
              "      <th>itemsPerPurchase</th>\n",
              "      <th>productDetailViews</th>\n",
              "      <th>sessions</th>\n",
              "      <th>bounceRate</th>\n",
              "      <th>pageViews</th>\n",
              "      <th>pageviewsPerSession</th>\n",
              "      <th>sessionDuration</th>\n",
              "      <th>users</th>\n",
              "      <th>newUsers</th>\n",
              "      <th>total_revenue</th>\n",
              "    </tr>\n",
              "  </thead>\n",
              "  <tbody>\n",
              "    <tr>\n",
              "      <th>0</th>\n",
              "      <td>A1R11603GBLK00011G749</td>\n",
              "      <td>Men's  Plus Black Sandal</td>\n",
              "      <td>2021-06-07</td>\n",
              "      <td>749.0</td>\n",
              "      <td>1</td>\n",
              "      <td>0.584771</td>\n",
              "      <td>0</td>\n",
              "      <td>0.550132</td>\n",
              "      <td>1</td>\n",
              "      <td>0</td>\n",
              "      <td>749.0</td>\n",
              "      <td>749.0</td>\n",
              "      <td>1</td>\n",
              "      <td>0</td>\n",
              "      <td>10</td>\n",
              "      <td>0.532958</td>\n",
              "      <td>100</td>\n",
              "      <td>0</td>\n",
              "      <td>120</td>\n",
              "      <td>1</td>\n",
              "      <td>0</td>\n",
              "      <td>749.0</td>\n",
              "    </tr>\n",
              "    <tr>\n",
              "      <th>1</th>\n",
              "      <td>A1PU9601GTAN00008G539</td>\n",
              "      <td>Men's Brown  Sandals</td>\n",
              "      <td>2021-06-07</td>\n",
              "      <td>539.0</td>\n",
              "      <td>1</td>\n",
              "      <td>0.102999</td>\n",
              "      <td>1</td>\n",
              "      <td>0.411237</td>\n",
              "      <td>1</td>\n",
              "      <td>1</td>\n",
              "      <td>539.0</td>\n",
              "      <td>539.0</td>\n",
              "      <td>1</td>\n",
              "      <td>0</td>\n",
              "      <td>10</td>\n",
              "      <td>0.707097</td>\n",
              "      <td>100</td>\n",
              "      <td>0</td>\n",
              "      <td>227</td>\n",
              "      <td>1</td>\n",
              "      <td>0</td>\n",
              "      <td>539.0</td>\n",
              "    </tr>\n",
              "    <tr>\n",
              "      <th>2</th>\n",
              "      <td>A1FB9102GPBYL00007G499</td>\n",
              "      <td>Men's Blue  Sandals</td>\n",
              "      <td>2021-06-07</td>\n",
              "      <td>499.0</td>\n",
              "      <td>1</td>\n",
              "      <td>0.384049</td>\n",
              "      <td>2</td>\n",
              "      <td>0.851673</td>\n",
              "      <td>1</td>\n",
              "      <td>2</td>\n",
              "      <td>499.0</td>\n",
              "      <td>499.0</td>\n",
              "      <td>1</td>\n",
              "      <td>0</td>\n",
              "      <td>10</td>\n",
              "      <td>0.879106</td>\n",
              "      <td>100</td>\n",
              "      <td>0</td>\n",
              "      <td>972</td>\n",
              "      <td>1</td>\n",
              "      <td>0</td>\n",
              "      <td>499.0</td>\n",
              "    </tr>\n",
              "    <tr>\n",
              "      <th>3</th>\n",
              "      <td>A1FB9572GPTAN00006G499</td>\n",
              "      <td>Men's   Tan Formal Shoes</td>\n",
              "      <td>2021-06-07</td>\n",
              "      <td>499.0</td>\n",
              "      <td>1</td>\n",
              "      <td>0.663615</td>\n",
              "      <td>3</td>\n",
              "      <td>0.252067</td>\n",
              "      <td>1</td>\n",
              "      <td>3</td>\n",
              "      <td>499.0</td>\n",
              "      <td>499.0</td>\n",
              "      <td>1</td>\n",
              "      <td>0</td>\n",
              "      <td>10</td>\n",
              "      <td>0.879087</td>\n",
              "      <td>100</td>\n",
              "      <td>0</td>\n",
              "      <td>470</td>\n",
              "      <td>1</td>\n",
              "      <td>0</td>\n",
              "      <td>499.0</td>\n",
              "    </tr>\n",
              "    <tr>\n",
              "      <th>4</th>\n",
              "      <td>A1EV1420LBLK00007G110</td>\n",
              "      <td>Women's  Black Flip-Flops</td>\n",
              "      <td>2021-06-07</td>\n",
              "      <td>658.0</td>\n",
              "      <td>2</td>\n",
              "      <td>0.659111</td>\n",
              "      <td>1</td>\n",
              "      <td>0.924743</td>\n",
              "      <td>2</td>\n",
              "      <td>1</td>\n",
              "      <td>329.0</td>\n",
              "      <td>329.0</td>\n",
              "      <td>1</td>\n",
              "      <td>0</td>\n",
              "      <td>10</td>\n",
              "      <td>0.368253</td>\n",
              "      <td>100</td>\n",
              "      <td>0</td>\n",
              "      <td>376</td>\n",
              "      <td>1</td>\n",
              "      <td>1</td>\n",
              "      <td>1316.0</td>\n",
              "    </tr>\n",
              "  </tbody>\n",
              "</table>\n",
              "</div>"
            ],
            "text/plain": [
              "                      SKU               Product_Name  ... newUsers  total_revenue\n",
              "0   A1R11603GBLK00011G749   Men's  Plus Black Sandal  ...        0          749.0\n",
              "1   A1PU9601GTAN00008G539       Men's Brown  Sandals  ...        0          539.0\n",
              "2  A1FB9102GPBYL00007G499        Men's Blue  Sandals  ...        0          499.0\n",
              "3  A1FB9572GPTAN00006G499   Men's   Tan Formal Shoes  ...        0          499.0\n",
              "4   A1EV1420LBLK00007G110  Women's  Black Flip-Flops  ...        1         1316.0\n",
              "\n",
              "[5 rows x 22 columns]"
            ]
          },
          "metadata": {},
          "execution_count": 111
        }
      ]
    },
    {
      "cell_type": "markdown",
      "metadata": {
        "id": "ovnzo6dkvT_J"
      },
      "source": [
        "We will reorder the columns for easier reference"
      ]
    },
    {
      "cell_type": "code",
      "metadata": {
        "id": "vPBoJX0hvVI-"
      },
      "source": [
        "df_new=df_new[['SKU', 'Product_Name', 'Date','itemRevenue', 'itemQuantity', 'revenuePerItem', 'users', 'newUsers', 'total_revenue']]"
      ],
      "execution_count": null,
      "outputs": []
    },
    {
      "cell_type": "code",
      "metadata": {
        "colab": {
          "base_uri": "https://localhost:8080/",
          "height": 206
        },
        "id": "1GCyFLPAvoIG",
        "outputId": "8966d8f3-22ca-41eb-a365-5bf74b6b26db"
      },
      "source": [
        "df_new.head()"
      ],
      "execution_count": null,
      "outputs": [
        {
          "output_type": "execute_result",
          "data": {
            "text/html": [
              "<div>\n",
              "<style scoped>\n",
              "    .dataframe tbody tr th:only-of-type {\n",
              "        vertical-align: middle;\n",
              "    }\n",
              "\n",
              "    .dataframe tbody tr th {\n",
              "        vertical-align: top;\n",
              "    }\n",
              "\n",
              "    .dataframe thead th {\n",
              "        text-align: right;\n",
              "    }\n",
              "</style>\n",
              "<table border=\"1\" class=\"dataframe\">\n",
              "  <thead>\n",
              "    <tr style=\"text-align: right;\">\n",
              "      <th></th>\n",
              "      <th>SKU</th>\n",
              "      <th>Product_Name</th>\n",
              "      <th>Date</th>\n",
              "      <th>itemRevenue</th>\n",
              "      <th>itemQuantity</th>\n",
              "      <th>revenuePerItem</th>\n",
              "      <th>users</th>\n",
              "      <th>newUsers</th>\n",
              "      <th>total_revenue</th>\n",
              "    </tr>\n",
              "  </thead>\n",
              "  <tbody>\n",
              "    <tr>\n",
              "      <th>0</th>\n",
              "      <td>A1R11603GBLK00011G749</td>\n",
              "      <td>Men's  Plus Black Sandal</td>\n",
              "      <td>2021-06-07</td>\n",
              "      <td>749.0</td>\n",
              "      <td>1</td>\n",
              "      <td>749.0</td>\n",
              "      <td>1</td>\n",
              "      <td>0</td>\n",
              "      <td>749.0</td>\n",
              "    </tr>\n",
              "    <tr>\n",
              "      <th>1</th>\n",
              "      <td>A1PU9601GTAN00008G539</td>\n",
              "      <td>Men's Brown  Sandals</td>\n",
              "      <td>2021-06-07</td>\n",
              "      <td>539.0</td>\n",
              "      <td>1</td>\n",
              "      <td>539.0</td>\n",
              "      <td>1</td>\n",
              "      <td>0</td>\n",
              "      <td>539.0</td>\n",
              "    </tr>\n",
              "    <tr>\n",
              "      <th>2</th>\n",
              "      <td>A1FB9102GPBYL00007G499</td>\n",
              "      <td>Men's Blue  Sandals</td>\n",
              "      <td>2021-06-07</td>\n",
              "      <td>499.0</td>\n",
              "      <td>1</td>\n",
              "      <td>499.0</td>\n",
              "      <td>1</td>\n",
              "      <td>0</td>\n",
              "      <td>499.0</td>\n",
              "    </tr>\n",
              "    <tr>\n",
              "      <th>3</th>\n",
              "      <td>A1FB9572GPTAN00006G499</td>\n",
              "      <td>Men's   Tan Formal Shoes</td>\n",
              "      <td>2021-06-07</td>\n",
              "      <td>499.0</td>\n",
              "      <td>1</td>\n",
              "      <td>499.0</td>\n",
              "      <td>1</td>\n",
              "      <td>0</td>\n",
              "      <td>499.0</td>\n",
              "    </tr>\n",
              "    <tr>\n",
              "      <th>4</th>\n",
              "      <td>A1EV1420LBLK00007G110</td>\n",
              "      <td>Women's  Black Flip-Flops</td>\n",
              "      <td>2021-06-07</td>\n",
              "      <td>658.0</td>\n",
              "      <td>2</td>\n",
              "      <td>329.0</td>\n",
              "      <td>1</td>\n",
              "      <td>1</td>\n",
              "      <td>1316.0</td>\n",
              "    </tr>\n",
              "  </tbody>\n",
              "</table>\n",
              "</div>"
            ],
            "text/plain": [
              "                      SKU               Product_Name  ... newUsers  total_revenue\n",
              "0   A1R11603GBLK00011G749   Men's  Plus Black Sandal  ...        0          749.0\n",
              "1   A1PU9601GTAN00008G539       Men's Brown  Sandals  ...        0          539.0\n",
              "2  A1FB9102GPBYL00007G499        Men's Blue  Sandals  ...        0          499.0\n",
              "3  A1FB9572GPTAN00006G499   Men's   Tan Formal Shoes  ...        0          499.0\n",
              "4   A1EV1420LBLK00007G110  Women's  Black Flip-Flops  ...        1         1316.0\n",
              "\n",
              "[5 rows x 9 columns]"
            ]
          },
          "metadata": {},
          "execution_count": 113
        }
      ]
    },
    {
      "cell_type": "markdown",
      "metadata": {
        "id": "zxMf5oARvpO5"
      },
      "source": [
        "## **4. Visual EDA**"
      ]
    },
    {
      "cell_type": "code",
      "source": [
        "plt.figure(figsize =(28,10))\n",
        "sns.boxplot(\"revenuePerItem\", \"total_revenue\", data=df_new)\n",
        "plt.show()"
      ],
      "metadata": {
        "colab": {
          "base_uri": "https://localhost:8080/",
          "height": 470
        },
        "id": "RAIDZSgcQbgw",
        "outputId": "ae30c27c-bff1-47c7-8bc1-cec2eee4bc19"
      },
      "execution_count": null,
      "outputs": [
        {
          "output_type": "display_data",
          "data": {
            "image/png": "[encoded data removed]",
            "text/plain": [
              "<Figure size 2016x720 with 1 Axes>"
            ]
          },
          "metadata": {
            "needs_background": "light"
          }
        }
      ]
    },
    {
      "cell_type": "code",
      "source": [
        "plt.figure(figsize = (25,10))\n",
        "sns.countplot(x='Date', data=df, color='green')\n",
        "plt.show()"
      ],
      "metadata": {
        "colab": {
          "base_uri": "https://localhost:8080/",
          "height": 525
        },
        "id": "HFNvANnr5T1t",
        "outputId": "10015797-3707-47e7-d2d3-2e69da6fd3dd"
      },
      "execution_count": null,
      "outputs": [
        {
          "output_type": "display_data",
          "data": {
            "image/png": "[encoded data removed]",
            "text/plain": [
              "<Figure size 1800x720 with 1 Axes>"
            ]
          },
          "metadata": {
            "needs_background": "light"
          }
        }
      ]
    },
    {
      "cell_type": "markdown",
      "source": [
        "As we can see, on 2021-o6 the sales were high compre to other days"
      ],
      "metadata": {
        "id": "M3OCxktl56I8"
      }
    },
    {
      "cell_type": "code",
      "source": [
        "df.corr()"
      ],
      "metadata": {
        "colab": {
          "base_uri": "https://localhost:8080/",
          "height": 633
        },
        "id": "t2RuxdsuTGDo",
        "outputId": "3f64c4a9-92c2-48da-b5f9-82db43e6fef1"
      },
      "execution_count": null,
      "outputs": [
        {
          "output_type": "execute_result",
          "data": {
            "text/html": [
              "<div>\n",
              "<style scoped>\n",
              "    .dataframe tbody tr th:only-of-type {\n",
              "        vertical-align: middle;\n",
              "    }\n",
              "\n",
              "    .dataframe tbody tr th {\n",
              "        vertical-align: top;\n",
              "    }\n",
              "\n",
              "    .dataframe thead th {\n",
              "        text-align: right;\n",
              "    }\n",
              "</style>\n",
              "<table border=\"1\" class=\"dataframe\">\n",
              "  <thead>\n",
              "    <tr style=\"text-align: right;\">\n",
              "      <th></th>\n",
              "      <th>itemRevenue</th>\n",
              "      <th>itemQuantity</th>\n",
              "      <th>buyToDetailRate</th>\n",
              "      <th>productAddsToCart</th>\n",
              "      <th>cartToDetailRate</th>\n",
              "      <th>uniquePurchases</th>\n",
              "      <th>quantityAddedToCart</th>\n",
              "      <th>revenuePerItem</th>\n",
              "      <th>productRevenuePerPurchase</th>\n",
              "      <th>itemsPerPurchase</th>\n",
              "      <th>productDetailViews</th>\n",
              "      <th>sessions</th>\n",
              "      <th>bounceRate</th>\n",
              "      <th>pageViews</th>\n",
              "      <th>pageviewsPerSession</th>\n",
              "      <th>sessionDuration</th>\n",
              "      <th>users</th>\n",
              "      <th>newUsers</th>\n",
              "    </tr>\n",
              "  </thead>\n",
              "  <tbody>\n",
              "    <tr>\n",
              "      <th>itemRevenue</th>\n",
              "      <td>1.000000</td>\n",
              "      <td>0.835575</td>\n",
              "      <td>-0.003232</td>\n",
              "      <td>-0.246301</td>\n",
              "      <td>0.013050</td>\n",
              "      <td>0.855181</td>\n",
              "      <td>-0.241300</td>\n",
              "      <td>0.704080</td>\n",
              "      <td>0.701710</td>\n",
              "      <td>-0.057097</td>\n",
              "      <td>NaN</td>\n",
              "      <td>-0.040443</td>\n",
              "      <td>0.090132</td>\n",
              "      <td>-0.040443</td>\n",
              "      <td>NaN</td>\n",
              "      <td>-0.013712</td>\n",
              "      <td>-0.040443</td>\n",
              "      <td>0.011723</td>\n",
              "    </tr>\n",
              "    <tr>\n",
              "      <th>itemQuantity</th>\n",
              "      <td>0.835575</td>\n",
              "      <td>1.000000</td>\n",
              "      <td>0.057471</td>\n",
              "      <td>-0.205570</td>\n",
              "      <td>-0.065883</td>\n",
              "      <td>0.971412</td>\n",
              "      <td>-0.177041</td>\n",
              "      <td>0.241253</td>\n",
              "      <td>0.267711</td>\n",
              "      <td>0.148497</td>\n",
              "      <td>NaN</td>\n",
              "      <td>0.024871</td>\n",
              "      <td>0.023527</td>\n",
              "      <td>0.024871</td>\n",
              "      <td>NaN</td>\n",
              "      <td>-0.050053</td>\n",
              "      <td>0.024871</td>\n",
              "      <td>0.055551</td>\n",
              "    </tr>\n",
              "    <tr>\n",
              "      <th>buyToDetailRate</th>\n",
              "      <td>-0.003232</td>\n",
              "      <td>0.057471</td>\n",
              "      <td>1.000000</td>\n",
              "      <td>-0.008718</td>\n",
              "      <td>0.073218</td>\n",
              "      <td>0.036812</td>\n",
              "      <td>0.019142</td>\n",
              "      <td>-0.054621</td>\n",
              "      <td>-0.040988</td>\n",
              "      <td>0.087748</td>\n",
              "      <td>NaN</td>\n",
              "      <td>-0.108284</td>\n",
              "      <td>-0.171498</td>\n",
              "      <td>-0.108284</td>\n",
              "      <td>NaN</td>\n",
              "      <td>-0.101379</td>\n",
              "      <td>-0.108284</td>\n",
              "      <td>0.116040</td>\n",
              "    </tr>\n",
              "    <tr>\n",
              "      <th>productAddsToCart</th>\n",
              "      <td>-0.246301</td>\n",
              "      <td>-0.205570</td>\n",
              "      <td>-0.008718</td>\n",
              "      <td>1.000000</td>\n",
              "      <td>0.005571</td>\n",
              "      <td>-0.245080</td>\n",
              "      <td>0.983086</td>\n",
              "      <td>-0.135860</td>\n",
              "      <td>-0.111604</td>\n",
              "      <td>0.158540</td>\n",
              "      <td>NaN</td>\n",
              "      <td>0.505429</td>\n",
              "      <td>0.091406</td>\n",
              "      <td>0.505429</td>\n",
              "      <td>NaN</td>\n",
              "      <td>0.043089</td>\n",
              "      <td>0.505429</td>\n",
              "      <td>0.189997</td>\n",
              "    </tr>\n",
              "    <tr>\n",
              "      <th>cartToDetailRate</th>\n",
              "      <td>0.013050</td>\n",
              "      <td>-0.065883</td>\n",
              "      <td>0.073218</td>\n",
              "      <td>0.005571</td>\n",
              "      <td>1.000000</td>\n",
              "      <td>-0.073616</td>\n",
              "      <td>0.032977</td>\n",
              "      <td>0.115748</td>\n",
              "      <td>0.121701</td>\n",
              "      <td>0.030275</td>\n",
              "      <td>NaN</td>\n",
              "      <td>-0.047709</td>\n",
              "      <td>-0.052957</td>\n",
              "      <td>-0.047709</td>\n",
              "      <td>NaN</td>\n",
              "      <td>0.073080</td>\n",
              "      <td>-0.047709</td>\n",
              "      <td>0.021316</td>\n",
              "    </tr>\n",
              "    <tr>\n",
              "      <th>uniquePurchases</th>\n",
              "      <td>0.855181</td>\n",
              "      <td>0.971412</td>\n",
              "      <td>0.036812</td>\n",
              "      <td>-0.245080</td>\n",
              "      <td>-0.073616</td>\n",
              "      <td>1.000000</td>\n",
              "      <td>-0.244156</td>\n",
              "      <td>0.276662</td>\n",
              "      <td>0.264684</td>\n",
              "      <td>-0.090514</td>\n",
              "      <td>NaN</td>\n",
              "      <td>-0.007103</td>\n",
              "      <td>0.039033</td>\n",
              "      <td>-0.007103</td>\n",
              "      <td>NaN</td>\n",
              "      <td>-0.051586</td>\n",
              "      <td>-0.007103</td>\n",
              "      <td>0.041632</td>\n",
              "    </tr>\n",
              "    <tr>\n",
              "      <th>quantityAddedToCart</th>\n",
              "      <td>-0.241300</td>\n",
              "      <td>-0.177041</td>\n",
              "      <td>0.019142</td>\n",
              "      <td>0.983086</td>\n",
              "      <td>0.032977</td>\n",
              "      <td>-0.244156</td>\n",
              "      <td>1.000000</td>\n",
              "      <td>-0.146638</td>\n",
              "      <td>-0.103818</td>\n",
              "      <td>0.274371</td>\n",
              "      <td>NaN</td>\n",
              "      <td>0.472735</td>\n",
              "      <td>0.087023</td>\n",
              "      <td>0.472735</td>\n",
              "      <td>NaN</td>\n",
              "      <td>0.059589</td>\n",
              "      <td>0.472735</td>\n",
              "      <td>0.185160</td>\n",
              "    </tr>\n",
              "    <tr>\n",
              "      <th>revenuePerItem</th>\n",
              "      <td>0.704080</td>\n",
              "      <td>0.241253</td>\n",
              "      <td>-0.054621</td>\n",
              "      <td>-0.135860</td>\n",
              "      <td>0.115748</td>\n",
              "      <td>0.276662</td>\n",
              "      <td>-0.146638</td>\n",
              "      <td>1.000000</td>\n",
              "      <td>0.987010</td>\n",
              "      <td>-0.140407</td>\n",
              "      <td>NaN</td>\n",
              "      <td>-0.047494</td>\n",
              "      <td>0.133294</td>\n",
              "      <td>-0.047494</td>\n",
              "      <td>NaN</td>\n",
              "      <td>0.031975</td>\n",
              "      <td>-0.047494</td>\n",
              "      <td>-0.008741</td>\n",
              "    </tr>\n",
              "    <tr>\n",
              "      <th>productRevenuePerPurchase</th>\n",
              "      <td>0.701710</td>\n",
              "      <td>0.267711</td>\n",
              "      <td>-0.040988</td>\n",
              "      <td>-0.111604</td>\n",
              "      <td>0.121701</td>\n",
              "      <td>0.264684</td>\n",
              "      <td>-0.103818</td>\n",
              "      <td>0.987010</td>\n",
              "      <td>1.000000</td>\n",
              "      <td>0.020482</td>\n",
              "      <td>NaN</td>\n",
              "      <td>-0.026106</td>\n",
              "      <td>0.124110</td>\n",
              "      <td>-0.026106</td>\n",
              "      <td>NaN</td>\n",
              "      <td>0.032968</td>\n",
              "      <td>-0.026106</td>\n",
              "      <td>0.000804</td>\n",
              "    </tr>\n",
              "    <tr>\n",
              "      <th>itemsPerPurchase</th>\n",
              "      <td>-0.057097</td>\n",
              "      <td>0.148497</td>\n",
              "      <td>0.087748</td>\n",
              "      <td>0.158540</td>\n",
              "      <td>0.030275</td>\n",
              "      <td>-0.090514</td>\n",
              "      <td>0.274371</td>\n",
              "      <td>-0.140407</td>\n",
              "      <td>0.020482</td>\n",
              "      <td>1.000000</td>\n",
              "      <td>NaN</td>\n",
              "      <td>0.133925</td>\n",
              "      <td>-0.063899</td>\n",
              "      <td>0.133925</td>\n",
              "      <td>NaN</td>\n",
              "      <td>0.004911</td>\n",
              "      <td>0.133925</td>\n",
              "      <td>0.059614</td>\n",
              "    </tr>\n",
              "    <tr>\n",
              "      <th>productDetailViews</th>\n",
              "      <td>NaN</td>\n",
              "      <td>NaN</td>\n",
              "      <td>NaN</td>\n",
              "      <td>NaN</td>\n",
              "      <td>NaN</td>\n",
              "      <td>NaN</td>\n",
              "      <td>NaN</td>\n",
              "      <td>NaN</td>\n",
              "      <td>NaN</td>\n",
              "      <td>NaN</td>\n",
              "      <td>NaN</td>\n",
              "      <td>NaN</td>\n",
              "      <td>NaN</td>\n",
              "      <td>NaN</td>\n",
              "      <td>NaN</td>\n",
              "      <td>NaN</td>\n",
              "      <td>NaN</td>\n",
              "      <td>NaN</td>\n",
              "    </tr>\n",
              "    <tr>\n",
              "      <th>sessions</th>\n",
              "      <td>-0.040443</td>\n",
              "      <td>0.024871</td>\n",
              "      <td>-0.108284</td>\n",
              "      <td>0.505429</td>\n",
              "      <td>-0.047709</td>\n",
              "      <td>-0.007103</td>\n",
              "      <td>0.472735</td>\n",
              "      <td>-0.047494</td>\n",
              "      <td>-0.026106</td>\n",
              "      <td>0.133925</td>\n",
              "      <td>NaN</td>\n",
              "      <td>1.000000</td>\n",
              "      <td>-0.032634</td>\n",
              "      <td>1.000000</td>\n",
              "      <td>NaN</td>\n",
              "      <td>0.019411</td>\n",
              "      <td>1.000000</td>\n",
              "      <td>0.476508</td>\n",
              "    </tr>\n",
              "    <tr>\n",
              "      <th>bounceRate</th>\n",
              "      <td>0.090132</td>\n",
              "      <td>0.023527</td>\n",
              "      <td>-0.171498</td>\n",
              "      <td>0.091406</td>\n",
              "      <td>-0.052957</td>\n",
              "      <td>0.039033</td>\n",
              "      <td>0.087023</td>\n",
              "      <td>0.133294</td>\n",
              "      <td>0.124110</td>\n",
              "      <td>-0.063899</td>\n",
              "      <td>NaN</td>\n",
              "      <td>-0.032634</td>\n",
              "      <td>1.000000</td>\n",
              "      <td>-0.032634</td>\n",
              "      <td>NaN</td>\n",
              "      <td>-0.184265</td>\n",
              "      <td>-0.032634</td>\n",
              "      <td>-0.141417</td>\n",
              "    </tr>\n",
              "    <tr>\n",
              "      <th>pageViews</th>\n",
              "      <td>-0.040443</td>\n",
              "      <td>0.024871</td>\n",
              "      <td>-0.108284</td>\n",
              "      <td>0.505429</td>\n",
              "      <td>-0.047709</td>\n",
              "      <td>-0.007103</td>\n",
              "      <td>0.472735</td>\n",
              "      <td>-0.047494</td>\n",
              "      <td>-0.026106</td>\n",
              "      <td>0.133925</td>\n",
              "      <td>NaN</td>\n",
              "      <td>1.000000</td>\n",
              "      <td>-0.032634</td>\n",
              "      <td>1.000000</td>\n",
              "      <td>NaN</td>\n",
              "      <td>0.019411</td>\n",
              "      <td>1.000000</td>\n",
              "      <td>0.476508</td>\n",
              "    </tr>\n",
              "    <tr>\n",
              "      <th>pageviewsPerSession</th>\n",
              "      <td>NaN</td>\n",
              "      <td>NaN</td>\n",
              "      <td>NaN</td>\n",
              "      <td>NaN</td>\n",
              "      <td>NaN</td>\n",
              "      <td>NaN</td>\n",
              "      <td>NaN</td>\n",
              "      <td>NaN</td>\n",
              "      <td>NaN</td>\n",
              "      <td>NaN</td>\n",
              "      <td>NaN</td>\n",
              "      <td>NaN</td>\n",
              "      <td>NaN</td>\n",
              "      <td>NaN</td>\n",
              "      <td>NaN</td>\n",
              "      <td>NaN</td>\n",
              "      <td>NaN</td>\n",
              "      <td>NaN</td>\n",
              "    </tr>\n",
              "    <tr>\n",
              "      <th>sessionDuration</th>\n",
              "      <td>-0.013712</td>\n",
              "      <td>-0.050053</td>\n",
              "      <td>-0.101379</td>\n",
              "      <td>0.043089</td>\n",
              "      <td>0.073080</td>\n",
              "      <td>-0.051586</td>\n",
              "      <td>0.059589</td>\n",
              "      <td>0.031975</td>\n",
              "      <td>0.032968</td>\n",
              "      <td>0.004911</td>\n",
              "      <td>NaN</td>\n",
              "      <td>0.019411</td>\n",
              "      <td>-0.184265</td>\n",
              "      <td>0.019411</td>\n",
              "      <td>NaN</td>\n",
              "      <td>1.000000</td>\n",
              "      <td>0.019411</td>\n",
              "      <td>0.034905</td>\n",
              "    </tr>\n",
              "    <tr>\n",
              "      <th>users</th>\n",
              "      <td>-0.040443</td>\n",
              "      <td>0.024871</td>\n",
              "      <td>-0.108284</td>\n",
              "      <td>0.505429</td>\n",
              "      <td>-0.047709</td>\n",
              "      <td>-0.007103</td>\n",
              "      <td>0.472735</td>\n",
              "      <td>-0.047494</td>\n",
              "      <td>-0.026106</td>\n",
              "      <td>0.133925</td>\n",
              "      <td>NaN</td>\n",
              "      <td>1.000000</td>\n",
              "      <td>-0.032634</td>\n",
              "      <td>1.000000</td>\n",
              "      <td>NaN</td>\n",
              "      <td>0.019411</td>\n",
              "      <td>1.000000</td>\n",
              "      <td>0.476508</td>\n",
              "    </tr>\n",
              "    <tr>\n",
              "      <th>newUsers</th>\n",
              "      <td>0.011723</td>\n",
              "      <td>0.055551</td>\n",
              "      <td>0.116040</td>\n",
              "      <td>0.189997</td>\n",
              "      <td>0.021316</td>\n",
              "      <td>0.041632</td>\n",
              "      <td>0.185160</td>\n",
              "      <td>-0.008741</td>\n",
              "      <td>0.000804</td>\n",
              "      <td>0.059614</td>\n",
              "      <td>NaN</td>\n",
              "      <td>0.476508</td>\n",
              "      <td>-0.141417</td>\n",
              "      <td>0.476508</td>\n",
              "      <td>NaN</td>\n",
              "      <td>0.034905</td>\n",
              "      <td>0.476508</td>\n",
              "      <td>1.000000</td>\n",
              "    </tr>\n",
              "  </tbody>\n",
              "</table>\n",
              "</div>"
            ],
            "text/plain": [
              "                           itemRevenue  itemQuantity  ...     users  newUsers\n",
              "itemRevenue                   1.000000      0.835575  ... -0.040443  0.011723\n",
              "itemQuantity                  0.835575      1.000000  ...  0.024871  0.055551\n",
              "buyToDetailRate              -0.003232      0.057471  ... -0.108284  0.116040\n",
              "productAddsToCart            -0.246301     -0.205570  ...  0.505429  0.189997\n",
              "cartToDetailRate              0.013050     -0.065883  ... -0.047709  0.021316\n",
              "uniquePurchases               0.855181      0.971412  ... -0.007103  0.041632\n",
              "quantityAddedToCart          -0.241300     -0.177041  ...  0.472735  0.185160\n",
              "revenuePerItem                0.704080      0.241253  ... -0.047494 -0.008741\n",
              "productRevenuePerPurchase     0.701710      0.267711  ... -0.026106  0.000804\n",
              "itemsPerPurchase             -0.057097      0.148497  ...  0.133925  0.059614\n",
              "productDetailViews                 NaN           NaN  ...       NaN       NaN\n",
              "sessions                     -0.040443      0.024871  ...  1.000000  0.476508\n",
              "bounceRate                    0.090132      0.023527  ... -0.032634 -0.141417\n",
              "pageViews                    -0.040443      0.024871  ...  1.000000  0.476508\n",
              "pageviewsPerSession                NaN           NaN  ...       NaN       NaN\n",
              "sessionDuration              -0.013712     -0.050053  ...  0.019411  0.034905\n",
              "users                        -0.040443      0.024871  ...  1.000000  0.476508\n",
              "newUsers                      0.011723      0.055551  ...  0.476508  1.000000\n",
              "\n",
              "[18 rows x 18 columns]"
            ]
          },
          "metadata": {},
          "execution_count": 116
        }
      ]
    },
    {
      "cell_type": "code",
      "source": [
        "sns.heatmap(df.corr(), annot=True, fmt='.2f')"
      ],
      "metadata": {
        "colab": {
          "base_uri": "https://localhost:8080/",
          "height": 417
        },
        "id": "I17M4VqYTbKh",
        "outputId": "2aac6efe-c95f-4796-b6ab-9f8472acf2ee"
      },
      "execution_count": null,
      "outputs": [
        {
          "output_type": "execute_result",
          "data": {
            "text/plain": [
              "<matplotlib.axes._subplots.AxesSubplot at 0x7ff392548850>"
            ]
          },
          "metadata": {},
          "execution_count": 117
        },
        {
          "output_type": "display_data",
          "data": {
            "image/png": "[encoded data removed]",
            "text/plain": [
              "<Figure size 432x288 with 2 Axes>"
            ]
          },
          "metadata": {
            "needs_background": "light"
          }
        }
      ]
    },
    {
      "cell_type": "code",
      "metadata": {
        "colab": {
          "base_uri": "https://localhost:8080/",
          "height": 521
        },
        "id": "9Z1ut1AJxrZ_",
        "outputId": "e6e259ef-0afc-460e-a05e-074ad317f147"
      },
      "source": [
        "plt.figure(figsize=(3,6))\n",
        "sns.countplot(df[df['Product_Name'] == 'Kids P-Toes Yellow Sandal']['Product_Name'])\n",
        "plt.xticks(rotation=90)"
      ],
      "execution_count": null,
      "outputs": [
        {
          "output_type": "execute_result",
          "data": {
            "text/plain": [
              "(array([0]), <a list of 1 Text major ticklabel objects>)"
            ]
          },
          "metadata": {},
          "execution_count": 118
        },
        {
          "output_type": "display_data",
          "data": {
            "image/png": "[encoded data removed]",
            "text/plain": [
              "<Figure size 216x432 with 1 Axes>"
            ]
          },
          "metadata": {
            "needs_background": "light"
          }
        }
      ]
    },
    {
      "cell_type": "code",
      "metadata": {
        "colab": {
          "base_uri": "https://localhost:8080/",
          "height": 685
        },
        "id": "nAkU2ZoByosb",
        "outputId": "a5f924cf-5448-464a-aed6-d450d131948e"
      },
      "source": [
        "plt.figure(figsize=(18,6))\n",
        "sns.countplot(df_new[df_new['Product_Name'] != 'Kids P-Toes Yellow Sandal']['Product_Name'])\n",
        "plt.xticks(rotation=90)"
      ],
      "execution_count": null,
      "outputs": [
        {
          "output_type": "execute_result",
          "data": {
            "text/plain": [
              "(array([ 0,  1,  2,  3,  4,  5,  6,  7,  8,  9, 10, 11, 12, 13, 14, 15, 16,\n",
              "        17, 18, 19, 20, 21, 22, 23, 24, 25, 26, 27, 28, 29, 30, 31, 32, 33,\n",
              "        34, 35, 36, 37, 38, 39, 40, 41, 42, 43, 44, 45, 46, 47, 48, 49, 50,\n",
              "        51, 52, 53, 54, 55, 56, 57, 58, 59, 60, 61, 62, 63, 64, 65, 66, 67,\n",
              "        68]), <a list of 69 Text major ticklabel objects>)"
            ]
          },
          "metadata": {},
          "execution_count": 119
        },
        {
          "output_type": "display_data",
          "data": {
            "image/png": "[encoded data removed]",
            "text/plain": [
              "<Figure size 1296x432 with 1 Axes>"
            ]
          },
          "metadata": {
            "needs_background": "light"
          }
        }
      ]
    },
    {
      "cell_type": "markdown",
      "metadata": {
        "id": "INgL_yNhz9L-"
      },
      "source": [
        "From above plots and calculations we can see that vast majority of sales were made for both men and women compare to kids. So, We can say our dataset is skewed to the men and women side."
      ]
    },
    {
      "cell_type": "markdown",
      "metadata": {
        "id": "S0Y9b9nI1goF"
      },
      "source": [
        "## **5. Detecting outliers**"
      ]
    },
    {
      "cell_type": "markdown",
      "metadata": {
        "id": "PbIKfm0J1jJf"
      },
      "source": [
        "There are few different methods to detect outliers: box plots, using IQR, scatter plot also works in some cases (and this is one of those). Also, detecting outliers using scatter plot is pretty intuitive. We plot our data and remove data points that visually are definitely out of range."
      ]
    },
    {
      "cell_type": "code",
      "metadata": {
        "colab": {
          "base_uri": "https://localhost:8080/",
          "height": 390
        },
        "id": "DFOJ727G0K__",
        "outputId": "8adf49ac-6929-4bfd-a27c-4097bebf66d1"
      },
      "source": [
        "plt.figure(figsize=(18,6))\n",
        "plt.scatter(x=df_new.index, y=df_new['total_revenue'])"
      ],
      "execution_count": null,
      "outputs": [
        {
          "output_type": "execute_result",
          "data": {
            "text/plain": [
              "<matplotlib.collections.PathCollection at 0x7ff391d7d410>"
            ]
          },
          "metadata": {},
          "execution_count": 120
        },
        {
          "output_type": "display_data",
          "data": {
            "image/png": "[encoded data removed]",
            "text/plain": [
              "<Figure size 1296x432 with 1 Axes>"
            ]
          },
          "metadata": {
            "needs_background": "light"
          }
        }
      ]
    },
    {
      "cell_type": "markdown",
      "metadata": {
        "id": "K6_5X8Vn0d1B"
      },
      "source": [
        "Let's remove obvious outliers"
      ]
    },
    {
      "cell_type": "code",
      "metadata": {
        "colab": {
          "base_uri": "https://localhost:8080/",
          "height": 423
        },
        "id": "bcnG2WCp0eQQ",
        "outputId": "34700e58-7350-4db3-9df6-016583eafdf4"
      },
      "source": [
        "df = df_new[df_new['total_revenue'] < 1000]\n",
        "plt.figure(figsize=(18,6))\n",
        "plt.scatter(x=df_new.index, y=df_new['total_revenue'])\n",
        "plt.xticks(rotation=90)"
      ],
      "execution_count": null,
      "outputs": [
        {
          "output_type": "execute_result",
          "data": {
            "text/plain": [
              "(array([-250.,    0.,  250.,  500.,  750., 1000., 1250., 1500., 1750.,\n",
              "        2000.]), <a list of 10 Text major ticklabel objects>)"
            ]
          },
          "metadata": {},
          "execution_count": 121
        },
        {
          "output_type": "display_data",
          "data": {
            "image/png": "[encoded data removed]",
            "text/plain": [
              "<Figure size 1296x432 with 1 Axes>"
            ]
          },
          "metadata": {
            "needs_background": "light"
          }
        }
      ]
    },
    {
      "cell_type": "markdown",
      "metadata": {
        "id": "seiENN741wYt"
      },
      "source": [
        "After removing obvious outliers we still see some values that are out of normal distribution. To understand better the distribution of our data let's check out different percentiles of our numeric features."
      ]
    },
    {
      "cell_type": "code",
      "metadata": {
        "colab": {
          "base_uri": "https://localhost:8080/",
          "height": 206
        },
        "id": "spuF-6Vs3j3v",
        "outputId": "30f944f7-59f9-4f60-97e5-f50de04eb1c0"
      },
      "source": [
        "df.quantile([0.05, 0.95, 0.98, 0.99, 0.999])"
      ],
      "execution_count": null,
      "outputs": [
        {
          "output_type": "execute_result",
          "data": {
            "text/html": [
              "<div>\n",
              "<style scoped>\n",
              "    .dataframe tbody tr th:only-of-type {\n",
              "        vertical-align: middle;\n",
              "    }\n",
              "\n",
              "    .dataframe tbody tr th {\n",
              "        vertical-align: top;\n",
              "    }\n",
              "\n",
              "    .dataframe thead th {\n",
              "        text-align: right;\n",
              "    }\n",
              "</style>\n",
              "<table border=\"1\" class=\"dataframe\">\n",
              "  <thead>\n",
              "    <tr style=\"text-align: right;\">\n",
              "      <th></th>\n",
              "      <th>itemRevenue</th>\n",
              "      <th>itemQuantity</th>\n",
              "      <th>revenuePerItem</th>\n",
              "      <th>users</th>\n",
              "      <th>newUsers</th>\n",
              "      <th>total_revenue</th>\n",
              "    </tr>\n",
              "  </thead>\n",
              "  <tbody>\n",
              "    <tr>\n",
              "      <th>0.050</th>\n",
              "      <td>95.00</td>\n",
              "      <td>1.0</td>\n",
              "      <td>95.00</td>\n",
              "      <td>1.00</td>\n",
              "      <td>0.0</td>\n",
              "      <td>95.00</td>\n",
              "    </tr>\n",
              "    <tr>\n",
              "      <th>0.950</th>\n",
              "      <td>505.00</td>\n",
              "      <td>2.0</td>\n",
              "      <td>505.00</td>\n",
              "      <td>2.00</td>\n",
              "      <td>2.0</td>\n",
              "      <td>570.50</td>\n",
              "    </tr>\n",
              "    <tr>\n",
              "      <th>0.980</th>\n",
              "      <td>749.00</td>\n",
              "      <td>2.0</td>\n",
              "      <td>749.00</td>\n",
              "      <td>2.06</td>\n",
              "      <td>2.0</td>\n",
              "      <td>761.22</td>\n",
              "    </tr>\n",
              "    <tr>\n",
              "      <th>0.990</th>\n",
              "      <td>749.30</td>\n",
              "      <td>2.0</td>\n",
              "      <td>749.30</td>\n",
              "      <td>3.00</td>\n",
              "      <td>2.0</td>\n",
              "      <td>796.00</td>\n",
              "    </tr>\n",
              "    <tr>\n",
              "      <th>0.999</th>\n",
              "      <td>758.03</td>\n",
              "      <td>2.0</td>\n",
              "      <td>758.03</td>\n",
              "      <td>3.00</td>\n",
              "      <td>2.0</td>\n",
              "      <td>796.00</td>\n",
              "    </tr>\n",
              "  </tbody>\n",
              "</table>\n",
              "</div>"
            ],
            "text/plain": [
              "       itemRevenue  itemQuantity  ...  newUsers  total_revenue\n",
              "0.050        95.00           1.0  ...       0.0          95.00\n",
              "0.950       505.00           2.0  ...       2.0         570.50\n",
              "0.980       749.00           2.0  ...       2.0         761.22\n",
              "0.990       749.30           2.0  ...       2.0         796.00\n",
              "0.999       758.03           2.0  ...       2.0         796.00\n",
              "\n",
              "[5 rows x 6 columns]"
            ]
          },
          "metadata": {},
          "execution_count": 122
        }
      ]
    },
    {
      "cell_type": "markdown",
      "metadata": {
        "id": "QuHH9bUg2MQQ"
      },
      "source": [
        "We can see that if we remove some percentage of our data points we will get rid of absolute outliers and will have more balaced dataset."
      ]
    },
    {
      "cell_type": "code",
      "metadata": {
        "colab": {
          "base_uri": "https://localhost:8080/",
          "height": 314
        },
        "id": "9vr-r59H3tFP",
        "outputId": "835efc07-0b3f-4813-f061-241ef98589e7"
      },
      "source": [
        "df_quantile = df_new[df_new['total_revenue'] < 500]\n",
        "plt.scatter(x=df_quantile.index, y=df_quantile['total_revenue'])\n",
        "plt.xticks(rotation=90)"
      ],
      "execution_count": null,
      "outputs": [
        {
          "output_type": "execute_result",
          "data": {
            "text/plain": [
              "(array([-250.,    0.,  250.,  500.,  750., 1000., 1250., 1500., 1750.,\n",
              "        2000.]), <a list of 10 Text major ticklabel objects>)"
            ]
          },
          "metadata": {},
          "execution_count": 123
        },
        {
          "output_type": "display_data",
          "data": {
            "image/png": "[encoded data removed]",
            "text/plain": [
              "<Figure size 432x288 with 1 Axes>"
            ]
          },
          "metadata": {
            "needs_background": "light"
          }
        }
      ]
    },
    {
      "cell_type": "code",
      "metadata": {
        "colab": {
          "base_uri": "https://localhost:8080/",
          "height": 300
        },
        "id": "keYy9YI43MbC",
        "outputId": "10d6d6de-1f44-4f85-83ff-78930801d31d"
      },
      "source": [
        "df_quantile.describe()"
      ],
      "execution_count": null,
      "outputs": [
        {
          "output_type": "execute_result",
          "data": {
            "text/html": [
              "<div>\n",
              "<style scoped>\n",
              "    .dataframe tbody tr th:only-of-type {\n",
              "        vertical-align: middle;\n",
              "    }\n",
              "\n",
              "    .dataframe tbody tr th {\n",
              "        vertical-align: top;\n",
              "    }\n",
              "\n",
              "    .dataframe thead th {\n",
              "        text-align: right;\n",
              "    }\n",
              "</style>\n",
              "<table border=\"1\" class=\"dataframe\">\n",
              "  <thead>\n",
              "    <tr style=\"text-align: right;\">\n",
              "      <th></th>\n",
              "      <th>itemRevenue</th>\n",
              "      <th>itemQuantity</th>\n",
              "      <th>revenuePerItem</th>\n",
              "      <th>users</th>\n",
              "      <th>newUsers</th>\n",
              "      <th>total_revenue</th>\n",
              "    </tr>\n",
              "  </thead>\n",
              "  <tbody>\n",
              "    <tr>\n",
              "      <th>count</th>\n",
              "      <td>85.000000</td>\n",
              "      <td>85.000000</td>\n",
              "      <td>85.000000</td>\n",
              "      <td>85.000000</td>\n",
              "      <td>85.000000</td>\n",
              "      <td>85.000000</td>\n",
              "    </tr>\n",
              "    <tr>\n",
              "      <th>mean</th>\n",
              "      <td>191.000000</td>\n",
              "      <td>1.011765</td>\n",
              "      <td>189.647059</td>\n",
              "      <td>1.152941</td>\n",
              "      <td>0.505882</td>\n",
              "      <td>193.705882</td>\n",
              "    </tr>\n",
              "    <tr>\n",
              "      <th>std</th>\n",
              "      <td>95.043317</td>\n",
              "      <td>0.108465</td>\n",
              "      <td>95.299710</td>\n",
              "      <td>0.422743</td>\n",
              "      <td>0.569535</td>\n",
              "      <td>99.343628</td>\n",
              "    </tr>\n",
              "    <tr>\n",
              "      <th>min</th>\n",
              "      <td>77.000000</td>\n",
              "      <td>1.000000</td>\n",
              "      <td>77.000000</td>\n",
              "      <td>1.000000</td>\n",
              "      <td>0.000000</td>\n",
              "      <td>77.000000</td>\n",
              "    </tr>\n",
              "    <tr>\n",
              "      <th>25%</th>\n",
              "      <td>117.500000</td>\n",
              "      <td>1.000000</td>\n",
              "      <td>115.000000</td>\n",
              "      <td>1.000000</td>\n",
              "      <td>0.000000</td>\n",
              "      <td>117.500000</td>\n",
              "    </tr>\n",
              "    <tr>\n",
              "      <th>50%</th>\n",
              "      <td>189.000000</td>\n",
              "      <td>1.000000</td>\n",
              "      <td>169.000000</td>\n",
              "      <td>1.000000</td>\n",
              "      <td>0.000000</td>\n",
              "      <td>189.000000</td>\n",
              "    </tr>\n",
              "    <tr>\n",
              "      <th>75%</th>\n",
              "      <td>230.000000</td>\n",
              "      <td>1.000000</td>\n",
              "      <td>219.000000</td>\n",
              "      <td>1.000000</td>\n",
              "      <td>1.000000</td>\n",
              "      <td>239.000000</td>\n",
              "    </tr>\n",
              "    <tr>\n",
              "      <th>max</th>\n",
              "      <td>499.000000</td>\n",
              "      <td>2.000000</td>\n",
              "      <td>499.000000</td>\n",
              "      <td>3.000000</td>\n",
              "      <td>2.000000</td>\n",
              "      <td>499.000000</td>\n",
              "    </tr>\n",
              "  </tbody>\n",
              "</table>\n",
              "</div>"
            ],
            "text/plain": [
              "       itemRevenue  itemQuantity  ...   newUsers  total_revenue\n",
              "count    85.000000     85.000000  ...  85.000000      85.000000\n",
              "mean    191.000000      1.011765  ...   0.505882     193.705882\n",
              "std      95.043317      0.108465  ...   0.569535      99.343628\n",
              "min      77.000000      1.000000  ...   0.000000      77.000000\n",
              "25%     117.500000      1.000000  ...   0.000000     117.500000\n",
              "50%     189.000000      1.000000  ...   0.000000     189.000000\n",
              "75%     230.000000      1.000000  ...   1.000000     239.000000\n",
              "max     499.000000      2.000000  ...   2.000000     499.000000\n",
              "\n",
              "[8 rows x 6 columns]"
            ]
          },
          "metadata": {},
          "execution_count": 124
        }
      ]
    },
    {
      "cell_type": "markdown",
      "metadata": {
        "id": "UOhlUHzh3-Oh"
      },
      "source": [
        "Looks like our data is almost ready for modelling. We performed a clean up, we removed outliers that were disturbing the balance of our dataset, we removed invalid records - now our data looks much better! and it doesn't lose it's value"
      ]
    },
    {
      "cell_type": "markdown",
      "metadata": {
        "id": "LrIWiSEy3_gr"
      },
      "source": [
        "**Visually checking distribution of numeric features**"
      ]
    },
    {
      "cell_type": "code",
      "metadata": {
        "colab": {
          "base_uri": "https://localhost:8080/",
          "height": 280
        },
        "id": "8GUyqbFT4O_g",
        "outputId": "c2ea879b-bd18-4a20-c33a-3e511fc036fb"
      },
      "source": [
        "plt.figure(figsize=(12,4))\n",
        "sns.distplot(df_quantile[df_quantile['revenuePerItem'] < 500]['revenuePerItem'].values, kde=True, bins=10)"
      ],
      "execution_count": null,
      "outputs": [
        {
          "output_type": "execute_result",
          "data": {
            "text/plain": [
              "<matplotlib.axes._subplots.AxesSubplot at 0x7ff391d0cd90>"
            ]
          },
          "metadata": {},
          "execution_count": 125
        },
        {
          "output_type": "display_data",
          "data": {
            "image/png": "[encoded data removed]",
            "text/plain": [
              "<Figure size 864x288 with 1 Axes>"
            ]
          },
          "metadata": {
            "needs_background": "light"
          }
        }
      ]
    },
    {
      "cell_type": "code",
      "metadata": {
        "colab": {
          "base_uri": "https://localhost:8080/",
          "height": 281
        },
        "id": "MgXZCq_g482c",
        "outputId": "b3635729-ee7a-4760-d2df-4ccde126330c"
      },
      "source": [
        "plt.figure(figsize=(12,4))\n",
        "sns.distplot(df_quantile[df_quantile['revenuePerItem'] < 250]['revenuePerItem'].values, kde=True, bins=10, color='green')"
      ],
      "execution_count": null,
      "outputs": [
        {
          "output_type": "execute_result",
          "data": {
            "text/plain": [
              "<matplotlib.axes._subplots.AxesSubplot at 0x7ff392392e90>"
            ]
          },
          "metadata": {},
          "execution_count": 126
        },
        {
          "output_type": "display_data",
          "data": {
            "image/png": "[encoded data removed]",
            "text/plain": [
              "<Figure size 864x288 with 1 Axes>"
            ]
          },
          "metadata": {
            "needs_background": "light"
          }
        }
      ]
    },
    {
      "cell_type": "markdown",
      "metadata": {
        "id": "FFhpamBf5OQF"
      },
      "source": [
        "From these histograms we can see that vast majority of items sold in this store has low price range - 50 to 250 pounds"
      ]
    },
    {
      "cell_type": "code",
      "metadata": {
        "colab": {
          "base_uri": "https://localhost:8080/",
          "height": 297
        },
        "id": "WrQ__kSq5dP_",
        "outputId": "59ff7dbd-a410-4fb3-de1d-d8d2b9fb13e5"
      },
      "source": [
        "plt.figure(figsize=(12,4))\n",
        "sns.distplot(df_quantile[df_quantile['itemQuantity'] <= 30]['itemQuantity'], kde=True, bins=10, color='red')"
      ],
      "execution_count": null,
      "outputs": [
        {
          "output_type": "execute_result",
          "data": {
            "text/plain": [
              "<matplotlib.axes._subplots.AxesSubplot at 0x7ff3922fa7d0>"
            ]
          },
          "metadata": {},
          "execution_count": 127
        },
        {
          "output_type": "display_data",
          "data": {
            "image/png": "[encoded data removed]",
            "text/plain": [
              "<Figure size 864x288 with 1 Axes>"
            ]
          },
          "metadata": {
            "needs_background": "light"
          }
        }
      ]
    },
    {
      "cell_type": "code",
      "metadata": {
        "colab": {
          "base_uri": "https://localhost:8080/",
          "height": 297
        },
        "id": "Y-47k22h6SQc",
        "outputId": "b447e544-86df-4419-ed64-70329bd655fd"
      },
      "source": [
        "plt.figure(figsize=(12,4))\n",
        "sns.distplot(df_quantile[df_quantile['itemQuantity'] <= 15]['itemQuantity'], kde=True, bins=10, color='orange')"
      ],
      "execution_count": null,
      "outputs": [
        {
          "output_type": "execute_result",
          "data": {
            "text/plain": [
              "<matplotlib.axes._subplots.AxesSubplot at 0x7ff3924dd750>"
            ]
          },
          "metadata": {},
          "execution_count": 128
        },
        {
          "output_type": "display_data",
          "data": {
            "image/png": "[encoded data removed]",
            "text/plain": [
              "<Figure size 864x288 with 1 Axes>"
            ]
          },
          "metadata": {
            "needs_background": "light"
          }
        }
      ]
    },
    {
      "cell_type": "markdown",
      "metadata": {
        "id": "u_8FW9Ia68aO"
      },
      "source": [
        "From these histograms we that people bought normally 1.0-1.2 items or at 2.0 - maybe there were some kind of offers for sets"
      ]
    },
    {
      "cell_type": "code",
      "metadata": {
        "colab": {
          "base_uri": "https://localhost:8080/",
          "height": 300
        },
        "id": "5_SwRrVY7XNP",
        "outputId": "3aff728e-c99d-4a17-b9ce-ecf783480a84"
      },
      "source": [
        "plt.figure(figsize=(12,4))\n",
        "sns.distplot(df_quantile[df_quantile['total_revenue'] < 500]['total_revenue'], kde=True, bins=10, color='purple')"
      ],
      "execution_count": null,
      "outputs": [
        {
          "output_type": "execute_result",
          "data": {
            "text/plain": [
              "<matplotlib.axes._subplots.AxesSubplot at 0x7ff392420210>"
            ]
          },
          "metadata": {},
          "execution_count": 129
        },
        {
          "output_type": "display_data",
          "data": {
            "image/png": "[encoded data removed]",
            "text/plain": [
              "<Figure size 864x288 with 1 Axes>"
            ]
          },
          "metadata": {
            "needs_background": "light"
          }
        }
      ]
    },
    {
      "cell_type": "code",
      "metadata": {
        "colab": {
          "base_uri": "https://localhost:8080/",
          "height": 297
        },
        "id": "uIaZ3oj_8CU8",
        "outputId": "ab786ec4-5e07-485c-e1c2-763909f021ee"
      },
      "source": [
        "plt.figure(figsize=(12,4))\n",
        "sns.distplot(df_quantile[df_quantile['total_revenue'] < 250]['total_revenue'], kde=True, bins=10, color='grey')"
      ],
      "execution_count": null,
      "outputs": [
        {
          "output_type": "execute_result",
          "data": {
            "text/plain": [
              "<matplotlib.axes._subplots.AxesSubplot at 0x7ff3925adc50>"
            ]
          },
          "metadata": {},
          "execution_count": 130
        },
        {
          "output_type": "display_data",
          "data": {
            "image/png": "[encoded data removed]",
            "text/plain": [
              "<Figure size 864x288 with 1 Axes>"
            ]
          },
          "metadata": {
            "needs_background": "light"
          }
        }
      ]
    },
    {
      "cell_type": "markdown",
      "source": [
        "From these histograms we can understand that majority of sales per order were in range 100-250 pounds each."
      ],
      "metadata": {
        "id": "_FdH6FRcElA_"
      }
    },
    {
      "cell_type": "markdown",
      "source": [
        "## **6. Spliting the Dataset**\n",
        "To split correctly, lets first see how classes are distributed over the full dataset"
      ],
      "metadata": {
        "id": "tWDYtnELHmP6"
      }
    },
    {
      "cell_type": "code",
      "source": [
        "df_len = df_new['total_revenue'].value_counts() / len(df_new['total_revenue'])\n",
        "df_len.head()"
      ],
      "metadata": {
        "colab": {
          "base_uri": "https://localhost:8080/"
        },
        "id": "J9-aG_0EG0tp",
        "outputId": "a9ad1d11-013d-4712-9f73-e4c0d54de285"
      },
      "execution_count": null,
      "outputs": [
        {
          "output_type": "execute_result",
          "data": {
            "text/plain": [
              "1316.0    0.142857\n",
              "95.0      0.071429\n",
              "209.0     0.063492\n",
              "199.0     0.063492\n",
              "5264.0    0.047619\n",
              "Name: total_revenue, dtype: float64"
            ]
          },
          "metadata": {},
          "execution_count": 131
        }
      ]
    },
    {
      "cell_type": "markdown",
      "source": [
        "**Simple split**\n",
        "\n",
        "Lets first try a simple random split and lets see if the proportions are kept equal."
      ],
      "metadata": {
        "id": "VUYb7yd4HWfT"
      }
    },
    {
      "cell_type": "code",
      "source": [
        "from sklearn.model_selection import train_test_split\n",
        "# split\n",
        "train_set, test_set = train_test_split(df_new, test_size=0.2, random_state=42)"
      ],
      "metadata": {
        "id": "GqQKNM05HQz5"
      },
      "execution_count": null,
      "outputs": []
    },
    {
      "cell_type": "code",
      "source": [
        "test_set['total_revenue'].value_counts() / len(test_set['total_revenue'])"
      ],
      "metadata": {
        "colab": {
          "base_uri": "https://localhost:8080/"
        },
        "id": "f1nK-IpdHTyc",
        "outputId": "6b6c6293-64a1-49b2-d214-45d55af78ef9"
      },
      "execution_count": null,
      "outputs": [
        {
          "output_type": "execute_result",
          "data": {
            "text/plain": [
              "1316.0    0.192308\n",
              "209.0     0.115385\n",
              "5264.0    0.076923\n",
              "98.0      0.076923\n",
              "539.0     0.038462\n",
              "3036.0    0.038462\n",
              "159.0     0.038462\n",
              "95.0      0.038462\n",
              "117.5     0.038462\n",
              "125.0     0.038462\n",
              "239.0     0.038462\n",
              "759.0     0.038462\n",
              "1236.0    0.038462\n",
              "77.0      0.038462\n",
              "299.0     0.038462\n",
              "199.0     0.038462\n",
              "749.0     0.038462\n",
              "129.0     0.038462\n",
              "Name: total_revenue, dtype: float64"
            ]
          },
          "metadata": {},
          "execution_count": 133
        }
      ]
    },
    {
      "cell_type": "markdown",
      "source": [
        "We see there is some difference between the proportion of each class compared to the original datase"
      ],
      "metadata": {
        "id": "iliMsKngIXWg"
      }
    },
    {
      "cell_type": "markdown",
      "source": [
        "### **7. Logistic Regression**\n",
        "\n",
        "Now we have to split our data into train-test data to be able to train our model and validate its capabilities."
      ],
      "metadata": {
        "id": "RIl8WvJkKLsw"
      }
    },
    {
      "cell_type": "code",
      "source": [
        "# Library imports\n",
        "from sklearn.tree import DecisionTreeClassifier\n",
        "from sklearn.ensemble import RandomForestClassifier\n",
        "from sklearn.model_selection import train_test_split\n",
        "from sklearn.metrics import accuracy_score, classification_report"
      ],
      "metadata": {
        "id": "CMiAFrTnNzfp"
      },
      "execution_count": null,
      "outputs": []
    },
    {
      "cell_type": "code",
      "source": [
        "X = df_new[['itemRevenue', 'total_revenue', 'revenuePerItem', 'users', 'newUsers']]\n",
        "y = df_new['itemQuantity']"
      ],
      "metadata": {
        "id": "pFD5K6bwL4h1"
      },
      "execution_count": null,
      "outputs": []
    },
    {
      "cell_type": "code",
      "source": [
        "from sklearn.preprocessing import MinMaxScaler\n",
        "scaler = MinMaxScaler()\n",
        "X_scaled = scaler.fit_transform(X)"
      ],
      "metadata": {
        "id": "XUXOYsskLY3n"
      },
      "execution_count": null,
      "outputs": []
    },
    {
      "cell_type": "code",
      "source": [
        "#Train Test Split\n",
        "X_train, X_test, y_train, y_test = train_test_split(X_scaled, y, test_size=0.3)"
      ],
      "metadata": {
        "id": "k5HF1XSfLpRs"
      },
      "execution_count": null,
      "outputs": []
    },
    {
      "cell_type": "code",
      "source": [
        "from sklearn.linear_model import LogisticRegression"
      ],
      "metadata": {
        "id": "dlF_g-e8OXGZ"
      },
      "execution_count": null,
      "outputs": []
    },
    {
      "cell_type": "code",
      "source": [
        "logistic_reg = LogisticRegression()\n",
        "logistic_reg.fit(X_train, y_train)\n",
        "y_pred = logistic_reg.predict(X_test)"
      ],
      "metadata": {
        "id": "PCM65idJOb_Y"
      },
      "execution_count": null,
      "outputs": []
    },
    {
      "cell_type": "code",
      "source": [
        "accuracy_score(y_test, y_pred)"
      ],
      "metadata": {
        "colab": {
          "base_uri": "https://localhost:8080/"
        },
        "id": "nw97p1ItOgNo",
        "outputId": "d16452fc-7b9f-4f10-d12a-f7f82aaae7fa"
      },
      "execution_count": null,
      "outputs": [
        {
          "output_type": "execute_result",
          "data": {
            "text/plain": [
              "0.7631578947368421"
            ]
          },
          "metadata": {},
          "execution_count": 140
        }
      ]
    },
    {
      "cell_type": "markdown",
      "source": [
        "The accuuracy score of LR is 0.76 which is not a bad one"
      ],
      "metadata": {
        "id": "yhJwtBhLZMD-"
      }
    },
    {
      "cell_type": "code",
      "source": [
        "print(classification_report(y_test, y_pred))"
      ],
      "metadata": {
        "colab": {
          "base_uri": "https://localhost:8080/"
        },
        "id": "01wyMG_87oPM",
        "outputId": "5965ce41-15ff-4c23-e343-236a58f54a3c"
      },
      "execution_count": null,
      "outputs": [
        {
          "output_type": "stream",
          "name": "stdout",
          "text": [
            "              precision    recall  f1-score   support\n",
            "\n",
            "           1       0.78      1.00      0.88        28\n",
            "           2       0.00      0.00      0.00         8\n",
            "           3       0.00      0.00      0.00         1\n",
            "           4       1.00      1.00      1.00         1\n",
            "\n",
            "    accuracy                           0.76        38\n",
            "   macro avg       0.44      0.50      0.47        38\n",
            "weighted avg       0.60      0.76      0.67        38\n",
            "\n"
          ]
        }
      ]
    },
    {
      "cell_type": "markdown",
      "source": [
        "###  **Conclusions**\n",
        "This is a basic analysis of a transactions dataset with a model that predicts sales. Still a lot of things can be improved:\n",
        "\n",
        "* Most of the time,the number of products ordered has been only 1  \n",
        "* Average time taken for delivery is a week can be improved  \n",
        "* Can Perform cluster analysis and create features based on it  \n",
        "* Can Make a deeper split of dates  \n",
        "* Get more insights from Descriptions and Stock numbers  \n",
        "* Compare domestic and abroad sales\n",
        "* Try deep learning models  \n",
        "* Also we can play much more with tuning of hyperparameters of our models and give it more time for training.  \n",
        "\n",
        "The classification report shows that the macro average and weighted average is 0.47 and 0.67.\n",
        "\n",
        "\n",
        "\n",
        "\n",
        "\n",
        "\n",
        "\n"
      ],
      "metadata": {
        "id": "ZMByYOhBYWXR"
      }
    }
  ]
}